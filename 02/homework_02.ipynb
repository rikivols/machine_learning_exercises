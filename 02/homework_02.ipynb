{
 "cells": [
  {
   "cell_type": "markdown",
   "id": "0cf75ab4-bd4d-4ec2-a708-74797dbfce44",
   "metadata": {},
   "source": [
    "# Úkol č. 2 - regrese\n",
    "\n",
    "* Termíny jsou uvedeny na [courses.fit.cvut.cz](https://courses.fit.cvut.cz/BI-ML1/homeworks/index.html).\n",
    "* Pokud odevzdáte úkol po prvním termínu ale před nejzazším termínem, budete penalizování -12 body, pozdější odevzdání je bez bodu.\n",
    "* V rámci tohoto úkolu se musíte vypořádat s regresní úlohou, s příznaky různých typů a s chybějícími hodnotami.\n",
    "* Před tím, než na nich postavíte predikční model, je třeba je nějakým způsobem převést do číselné reprezentace.\n",
    "    \n",
    "> **Úkoly jsou zadány tak, aby Vám daly prostor pro invenci. Vymyslet _jak přesně_ budete úkol řešit, je důležitou součástí zadání a originalita či nápaditost bude také hodnocena!**\n",
    "\n",
    "Využívejte buňky typu `Markdown` k vysvětlování Vašeho postupu. Za nepřehlednost budeme strhávat body.\n",
    "\n",
    "## Zdroj dat\n",
    "\n",
    "Budeme se zabývat predikcí délky dožití v různých zemích a letech.\n",
    "K dispozici máte trénovací data v souboru `data.csv` a data na vyhodnocení v souboru `evaluation.csv`.\n",
    "\n",
    "#### Seznam příznaků:\n",
    "\n",
    "* Year - Rok\n",
    "* Status - Status rozvinuté nebo rozvojové země\n",
    "* Life expectancy - Délka dožití v letech - **cílová proměnná, kterou budete predikovat**\n",
    "* Adult Mortality - Úmrtnost dospělých bez ohledu na pohlaví (pravděpodobnost, že osoby, které dosáhly věku 15 let, zemřou před dosažením věku 60 let (uvedeno na 1 000 osob)).\n",
    "* infant deaths - počet zemřelých kojenců na 1000 obyvatel\n",
    "* Alcohol - Alkohol, zaznamenaná spotřeba na obyvatele (15+) (v litrech čistého alkoholu)\n",
    "* percentage expenditure - Výdaje na zdravotnictví v procentech hrubého domácího produktu na obyvatele (%)\n",
    "* Hepatitis B - pokrytí očkováním proti hepatitidě B (HepB) u dětí ve věku 1 roku (%)\n",
    "* Measles - Spalničky - počet hlášených případů na 1000 obyvatel\n",
    "* BMI - průměrný index tělesné hmotnosti celé populace\n",
    "* under-five deaths - počet úmrtí dětí do pěti let na 1000 obyvatel\n",
    "* Polio - proočkovanost proti dětské obrně (Pol3) u dětí ve věku 1 roku (%)\n",
    "* Total expenditure - Výdaje vládních institucí na zdravotnictví jako procento celkových vládních výdajů (%)\n",
    "* Diphtheria - pokrytí očkováním proti záškrtu, tetanu a černému kašli (DTP3) u jednoletých dětí (%)\n",
    "* HIV/AIDS - počet úmrtí na 1 000 živě narozených dětí na HIV/AIDS (0-4 roky)\n",
    "* GDP - hrubý domácí produkt na obyvatele (v USD)\n",
    "* Population - počet obyvatel země\n",
    "* thinness 1-19 years - podíl dětí ve věku 10-19 let s indexem tělesné hmotnosti (BMI) menším než 2 směrodatné odchylky pod mediánem (%)\n",
    "* thinness 5-9 years - podíl dětí ve věku 5-9 let s indexem tělesné hmotnosti (BMI) menším než 2 směrodatné odchylky pod mediánem (%)\n",
    "* Income composition of resources - Index lidského rozvoje z hlediska příjmového složení zdrojů (index v rozmezí 0 až 1)\n",
    "* Schooling - počet let školní docházky (roky)\n",
    "\n",
    "\n",
    "## Pokyny k vypracování\n",
    "\n",
    "**Body zadání**, za jejichž (poctivé) vypracování získáte **25 bodů**: \n",
    "  * V notebooku načtěte data ze souboru `data.csv`. Vhodným způsobem si je rozdělte na podmnožiny, které Vám poslouží pro trénování (trénovací), porovnávání modelů (validační) a následnou predikci výkonnosti finálního modelu (testovací).\n",
    "    \n",
    "  * Proveďte základní předzpracování dat:\n",
    "    * Projděte si jednotlivé příznaky a transformujte je do vhodné podoby pro použití ve vybraném regresním modelu.\n",
    "    * Nějakým způsobem se vypořádejte s chybějícími hodnotami. _Pozor na metodické chyby!_\n",
    "    * Můžete využívat i vizualizace. Vše stručně ale náležitě komentujte.\n",
    "<br /><br />\n",
    "  * Vytvořte **vlastní implementaci náhodného lesa**. Použijte k tomu níže předpřipravenou kostru.\n",
    "  \n",
    "  * Na připravená data postupně aplikujte Vaši předchozí implementaci modelu náhodného lesa, dále jeden z modelů **lineární regrese** nebo **hřebenové regrese**, a alespoň jeden další model podle Vašeho uvážení, přičemž pro každý z těchto modelů přiměřeně:\n",
    "    * Okomentujte vhodnost daného modelu pro daný typ úlohy.\n",
    "    * Experimentujte s normalizací (standardizace/min-max), pokud pro daný model očekáváte její příznivý vliv.\n",
    "    * Vyberte si hlavní hyperparametry k ladění a najděte jejich nejlepší hodnoty (vzhledem k RMSE).\n",
    "    * Pro model s nejlepšími hodnotami hyperparametrů určete jeho chybu pomocí RMSE a MAE. _Pozor na metodické chyby!_\n",
    "    * Získané výsledky vždy řádně okomentujte.\n",
    "<br /><br />\n",
    "  * Ze všech zkoušených možností v předchozím kroku vyberte finální model a odhadněte, jakou chybu (RMSE) můžete očekávat na nových datech, která jste doposud neměli k dispozici. _Pozor na metodické chyby!_\n",
    "    \n",
    "  * Nakonec načtěte vyhodnocovací data ze souboru `evaluation.csv`. Pomocí finálního modelu napočítejte predikce pro tato data. Vytvořte soubor `results.csv`, ve kterém získané predikce uložíte s využitím tří sloupců: **Country**, **Year** a **Life expectancy**. Tento soubor též odevzdejte (uložte do repozitáře vedle notebooku).\n",
    "\n",
    "  * Ukázka prvních řádků souboru `results.csv`:\n",
    "  \n",
    "```\n",
    "Country,Year,Life expectancy\n",
    "Peru,2012,71.4\n",
    "Peru,2013,72.6\n",
    "...\n",
    "```\n",
    "\n",
    "\n",
    "## Poznámky k odevzdání\n",
    "\n",
    "  * Řiďte se pokyny ze stránky https://courses.fit.cvut.cz/BI-ML1/homeworks/index.html."
   ]
  },
  {
   "cell_type": "code",
   "execution_count": 102,
   "outputs": [],
   "source": [
    "import pandas as pd\n",
    "import numpy as np\n",
    "from typing import Callable\n",
    "from sklearn.model_selection import train_test_split, ParameterGrid\n",
    "import sklearn.metrics as metrics\n",
    "from sklearn.ensemble import RandomForestRegressor\n",
    "from sklearn.tree import DecisionTreeRegressor\n",
    "from sklearn.experimental import enable_iterative_imputer\n",
    "from sklearn.impute import IterativeImputer\n",
    "from sklearn.linear_model import Ridge, LinearRegression\n",
    "from sklearn.preprocessing import StandardScaler, MinMaxScaler\n",
    "from sklearn.neighbors import KNeighborsRegressor\n",
    "from scipy import optimize\n",
    "from joblib import Parallel, delayed\n",
    "\n",
    "import matplotlib.pyplot as plt\n",
    "from typing import Union\n",
    "import random\n",
    "\n",
    "%matplotlib inline\n",
    "\n",
    "random_seed = 42"
   ],
   "metadata": {
    "collapsed": false
   }
  },
  {
   "cell_type": "code",
   "execution_count": 103,
   "id": "280dc5d5-087b-4060-bd0a-c950c91f0533",
   "metadata": {},
   "outputs": [],
   "source": [
    "# Váš kód zde\n",
    "\n",
    "\n",
    "########################################################\n",
    "# Předpřipravená kostra modelu náhodného lesa\n",
    "class CustomRandomForest:\n",
    "    \"\"\"\n",
    "    Třída Vašeho modelu\n",
    "    Bude se jednat o model náhodného lesa, kde podmodely tvoří rozhodovací stromy pro regresi.\n",
    "    Pro podmodely můžete použít implementaci DecisionTreeRegressor ze sklearn.\n",
    "    \"\"\"\n",
    "    def __init__(self, n_estimators: int, max_samples: float, max_depth: int, **kwargs):\n",
    "        \"\"\"\n",
    "        Konstruktor modelu\n",
    "        Základní hyperparametery:\n",
    "            n_estimators - počet podmodelů - rozhodovacích stromů.\n",
    "            max_samples - vyberte si, zda tento parametr bude označovat relativní počet bodů (tj. číslo mezi 0 a 1) \n",
    "                          nebo absolutní počet bodů (tj. číslo mezi 1 a velikostí trénovací množiny), \n",
    "                          které budou pro každý podmodel rozhodovacího stromu náhodně vybrány z trénovací množiny (bootstrap) a použity k jeho trénování.\n",
    "            max_depth - maximální hloubka každého z podmodelů rozhodovacího stromu.\n",
    "            kwargs - (volitelně) případné další hyperparametry, které pošlete do podmodelů rozhodovacího stromu\n",
    "        \"\"\"\n",
    "\n",
    "        if n_estimators <= 0:\n",
    "            raise RuntimeError(\"Number of estimators can't be 0 or less\")\n",
    "        self.n_estimators = n_estimators\n",
    "        if max_samples <= 0 or max_samples > 1:\n",
    "            raise RuntimeError(\"max samples must be in [0, 1)\")\n",
    "        # relative number of points - max_samples * rows = how many points in each tree\n",
    "        self.max_samples = max_samples\n",
    "        self.max_depth = max_depth\n",
    "        self.kwargs = kwargs\n",
    "        self.random_state = kwargs.get(\"random_state\", 1)\n",
    "\n",
    "        self.tree_models = []\n",
    "        \n",
    "    def fit(self, X: pd.DataFrame, y: Union[pd.DataFrame, pd.Series]):\n",
    "        \"\"\"\n",
    "        Natrénování modelu. Trénovací data jsou v argumentech X a y.\n",
    "        Pro trénování podmodelů používejte bootstraping a velikost samplovaného vzorku vezměte z hyperparametru max_samples_fraction\n",
    "        \"\"\"\n",
    "\n",
    "        total_rows = len(X)\n",
    "        points_per_tree = max(int(total_rows * self.max_samples), 2)\n",
    "\n",
    "        if self.n_estimators > total_rows:\n",
    "            raise RuntimeError(\"Number of estimators can't be greater than rows in the dataframe\")\n",
    "\n",
    "        for i in range(self.n_estimators):\n",
    "            # ensure that the output doesn't change when training, but also make every sample differently random\n",
    "            random.seed(self.random_state + i * 5)\n",
    "            random_indexes = random.sample(range(total_rows), points_per_tree)\n",
    "            random_X = X.iloc[random_indexes]\n",
    "            random_Y = y.iloc[random_indexes]\n",
    "            decision_tree = DecisionTreeRegressor(max_depth=self.max_depth, **self.kwargs)\n",
    "            decision_tree.fit(random_X, random_Y)\n",
    "            self.tree_models.append(decision_tree)\n",
    "\n",
    "        return self\n",
    "        \n",
    "    def predict(self, X: pd.DataFrame):\n",
    "        \"\"\"\n",
    "        Predikce y v zadaných bodech X\n",
    "        \"\"\"\n",
    "\n",
    "        if not self.tree_models:\n",
    "            return None\n",
    "\n",
    "        ypredicted = np.zeros((X.shape[0],))\n",
    "\n",
    "        for tree_model in self.tree_models:\n",
    "            tree_output = tree_model.predict(X)\n",
    "            ypredicted = np.add(tree_output, ypredicted)\n",
    "\n",
    "        # return the average output\n",
    "        return ypredicted / self.n_estimators\n"
   ]
  },
  {
   "cell_type": "markdown",
   "source": [
    "<h1>Initial analysis</h1>\n",
    "\n",
    "We're going to read the data.csv . Since Each line of the table represents information about a given country in a given year, we'll set them as an index.\n",
    "However, year can still be used for predictions, so we'll include it.\n",
    "\n",
    "Including country would also be an interesting idea. Where we could also predict based on where the country is located, not even necessarily the country itself. However, I wanted my model to not be biased based on where it's located. I wanted to give each country its chance to improve, and not penalize them because they're located somewhere. This could perhaps help us with to finding out more unexpected answers even for countries located in peaceful places. So in the end country is only kept as an idex."
   ],
   "metadata": {
    "collapsed": false
   }
  },
  {
   "cell_type": "code",
   "execution_count": 104,
   "outputs": [
    {
     "name": "stdout",
     "output_type": "stream",
     "text": [
      "<class 'pandas.core.frame.DataFrame'>\n",
      "MultiIndex: 2718 entries, ('Afghanistan', 2015) to ('Zimbabwe', 2000)\n",
      "Data columns (total 21 columns):\n",
      " #   Column                           Non-Null Count  Dtype  \n",
      "---  ------                           --------------  -----  \n",
      " 0   Life expectancy                  2718 non-null   float64\n",
      " 1   Adult Mortality                  2718 non-null   float64\n",
      " 2   infant deaths                    2718 non-null   int64  \n",
      " 3   Alcohol                          2564 non-null   float64\n",
      " 4   percentage expenditure           2718 non-null   float64\n",
      " 5   Hepatitis B                      2188 non-null   float64\n",
      " 6   Measles                          2718 non-null   int64  \n",
      " 7   BMI                              2692 non-null   float64\n",
      " 8   under-five deaths                2718 non-null   int64  \n",
      " 9   Polio                            2700 non-null   float64\n",
      " 10  Total expenditure                2529 non-null   float64\n",
      " 11  Diphtheria                       2700 non-null   float64\n",
      " 12  HIV/AIDS                         2718 non-null   float64\n",
      " 13  GDP                              2317 non-null   float64\n",
      " 14  Population                       2116 non-null   float64\n",
      " 15  thinness  1-19 years             2692 non-null   float64\n",
      " 16  thinness 5-9 years               2692 non-null   float64\n",
      " 17  Income composition of resources  2576 non-null   float64\n",
      " 18  Schooling                        2576 non-null   float64\n",
      " 19  Status_Developing                2718 non-null   uint8  \n",
      " 20  year                             2718 non-null   int64  \n",
      "dtypes: float64(16), int64(4), uint8(1)\n",
      "memory usage: 441.6+ KB\n"
     ]
    }
   ],
   "source": [
    "def load_prepare_data(file_name: str):\n",
    "    df = pd.read_csv(file_name)\n",
    "    # transforms status into binary. 0 = developed, 1 = developing\n",
    "    df = pd.get_dummies(df, columns=['Status'], drop_first=True)\n",
    "    df[\"year\"] = df[\"Year\"]\n",
    "    df.set_index([\"Country\", \"Year\"], inplace=True)\n",
    "\n",
    "    return df\n",
    "\n",
    "df = load_prepare_data(\"data.csv\")\n",
    "df.info()"
   ],
   "metadata": {
    "collapsed": false
   }
  },
  {
   "cell_type": "markdown",
   "source": [
    "As we can see, 13 columns have missing values. We'll plot each of them to see what distribution they have.\n",
    "\n",
    "Also, we can see that some columns could potentially be merged together. We have 2 columns with thinness, that have very similar values.\n",
    "We also have 3 columns that depict vaccination. We could also merge those. This could help models, which precision gets degraded with introducing of the new columns, like regression or KNN.\n",
    "\n",
    "We'll try to predict Life expectancy on all columns untouched, and then we'll try merging the correlated columns and predict Life expectancy, to see which approach gives us better results."
   ],
   "metadata": {
    "collapsed": false
   }
  },
  {
   "cell_type": "code",
   "execution_count": 105,
   "outputs": [
    {
     "data": {
      "text/plain": "<Figure size 2000x1500 with 10 Axes>",
      "image/png": "[encoded data removed]"
     },
     "metadata": {},
     "output_type": "display_data"
    }
   ],
   "source": [
    "columns_to_plot = [\n",
    "    \"Alcohol\", \"Hepatitis B\", \"BMI\", \"Polio\", \"Total expenditure\", \"Diphtheria\", \"GDP\", \"Population\",\n",
    "    \"thinness  1-19 years\", \"thinness 5-9 years\"\n",
    "]\n",
    "\n",
    "fig, ax = plt.subplots(nrows=3, ncols=4, figsize=(20, 15))\n",
    "\n",
    "ax = ax.flatten()\n",
    "\n",
    "for i, col in enumerate(columns_to_plot):\n",
    "    ax[i].hist(df[col], bins=20)\n",
    "    ax[i].set_ylabel('frequency')\n",
    "    ax[i].set_title(f'{col}')\n",
    "\n",
    "fig.delaxes(ax[-2])\n",
    "fig.delaxes(ax[-1])\n",
    "\n",
    "plt.show()"
   ],
   "metadata": {
    "collapsed": false
   }
  },
  {
   "cell_type": "markdown",
   "source": [
    "Our data is not evenly distributed, that's why when predicting missing values, using median should give us better results."
   ],
   "metadata": {
    "collapsed": false
   }
  },
  {
   "cell_type": "markdown",
   "source": [
    "Firstly, we split the data into train, validation and test."
   ],
   "metadata": {
    "collapsed": false
   }
  },
  {
   "cell_type": "markdown",
   "source": [],
   "metadata": {
    "collapsed": false
   }
  },
  {
   "cell_type": "code",
   "execution_count": 106,
   "outputs": [],
   "source": [
    "# Split the training dataset into 60% train and 40% rest\n",
    "Xtrain, Xrest, ytrain, yrest = train_test_split(df.drop(columns=['Life expectancy']), df['Life expectancy'], test_size=0.4, random_state=random_seed)\n",
    "\n",
    "# Split the rest of the data into 0.6*0.4=24% validation, 0.4*0.4=16% test\n",
    "Xtest, Xval, ytest, yval = train_test_split(Xrest, yrest, test_size=0.6, random_state=random_seed)"
   ],
   "metadata": {
    "collapsed": false
   }
  },
  {
   "cell_type": "markdown",
   "source": [
    "<h1>Predicting life expectancy for all columns</h1>\n",
    "\n",
    "In this segment, we'll be predicting the life expectancy for all columns, without merging any of them."
   ],
   "metadata": {
    "collapsed": false
   }
  },
  {
   "cell_type": "markdown",
   "source": [
    "<h2>Handling missing data</h2>\n",
    "\n",
    "Now we'll use IterativeImputer for predicting the missing values. Iterative imputer is a very powerful tool to fill the missing values, it firstly fills all missing values with a given function. Since we found out that median is better, we'll use that.\n",
    "\n",
    "After initially filling the missing data with median, the imputer will take each column, and use Random forest regressor to predict the missing values of the given column, using all other columns to do so. This process is repeated until either the imputer converges, and there are no new improvements, or max_iter is reached."
   ],
   "metadata": {
    "collapsed": false
   }
  },
  {
   "cell_type": "code",
   "execution_count": 107,
   "outputs": [
    {
     "name": "stderr",
     "output_type": "stream",
     "text": [
      "/Library/Python/3.9/site-packages/sklearn/impute/_iterative.py:713: ConvergenceWarning: [IterativeImputer] Early stopping criterion not reached.\n",
      "  warnings.warn(\n"
     ]
    }
   ],
   "source": [
    "iterative_imputer_model = IterativeImputer(estimator=RandomForestRegressor(), random_state=random_seed, initial_strategy=\"median\",\n",
    "                                           max_iter=30)\n",
    "\n",
    "iterative_imputer_model.fit(Xtrain)\n",
    "\n",
    "def fill_missing_values(df: pd.DataFrame):\n",
    "\n",
    "    filled_values = iterative_imputer_model.transform(df.copy())\n",
    "    return pd.DataFrame(filled_values, columns=df.columns, index=df.index)\n",
    "\n",
    "\n",
    "Xtrain = fill_missing_values(Xtrain)\n",
    "Xval = fill_missing_values(Xval)"
   ],
   "metadata": {
    "collapsed": false
   }
  },
  {
   "cell_type": "markdown",
   "source": [
    "We have a warning that the function didn't converge, but that's okay. Our predictions are still good, it just means that we don't have enough data for it to be satisfied, but for our purposes, it should definitely be much much more precise than median."
   ],
   "metadata": {
    "collapsed": false
   }
  },
  {
   "cell_type": "markdown",
   "source": [
    "<h2>Predicting Life expectancy</h2>\n",
    "\n",
    "We're going to use 3 models to predict Life expectancy of the country in a given year:\n",
    "* Random forest\n",
    "* Ridge regression\n",
    "* KNN\n"
   ],
   "metadata": {
    "collapsed": false
   }
  },
  {
   "cell_type": "markdown",
   "source": [
    "<h3>Random forest regressor</h3>\n",
    "\n",
    "Firstly, we're going to use the random forest regressor. It's a model containing multiple tree models (DecisionTreeRegressor).\n",
    "We're picking random rows from our data, and feeding them into the trees for training and prediction. During the prediction time,\n",
    "we take the average of each trained tree model. This method is called bagging.\n",
    "\n",
    "Random forest regressor is good for complex data with difficult relationships between them. Since we're also averaging the values, the risk\n",
    "of overfitting is also greatly reduced compared to individual tree. The big strength of this model is, that it doesn't assume linear\n",
    "relationships between columns.\n",
    "\n",
    "This model should perform well on these datas, even without merging the columns into more general ones. It should be able to pick the correct\n",
    "columns and relationships to focus on, even if some are highly correlated. This model should perform the best on these data if there's\n",
    "an important non-linear relationships between them compared to ridge regression.\n",
    "\n",
    "The big downside of this model is, that it's very slow to compute. Training each individual tree of the forest takes a long time. It takes\n",
    "hours for to find the optimal hyperparameters in these data. Also, if these datas were linearly correlated, regression could outperform this\n",
    "model."
   ],
   "metadata": {
    "collapsed": false
   }
  },
  {
   "cell_type": "code",
   "execution_count": 108,
   "outputs": [],
   "source": [
    "def train_and_evaluate_model_errors(params, model, X_train, Y_train, X_val, Y_val):\n",
    "    clf = model(**params).fit(X_train, Y_train)\n",
    "    model_RMSE = metrics.mean_squared_error(Y_val, clf.predict(X_val), squared=False)\n",
    "    return params, model_RMSE\n",
    "\n",
    "\n",
    "def find_best_hyperparameters(model: Callable, param_grid: dict, X_train: pd.DataFrame, Y_train: pd.DataFrame,\n",
    "                              X_val: pd.DataFrame, Y_val: pd.DataFrame, model_name: str) -> dict:\n",
    "\n",
    "    param_comb = list(ParameterGrid(param_grid))\n",
    "\n",
    "    # since training forests took very longs, I've decided to use a common techniques, split the data into chunks to be executed by\n",
    "    # CPU in parallel to use the maximum of computer resources\n",
    "    results = Parallel(n_jobs=-1)(\n",
    "        delayed(train_and_evaluate_model_errors)(params, model, X_train, Y_train, X_val, Y_val) for params in param_comb\n",
    "    )\n",
    "\n",
    "    _, val_metric = zip(*results)\n",
    "\n",
    "    best_params = param_comb[np.argmin(val_metric)]\n",
    "    print(f\"We found the best params {best_params} with validation RMSE {min(val_metric):.4f} for {model_name}.\")\n",
    "\n",
    "    return best_params\n"
   ],
   "metadata": {
    "collapsed": false
   }
  },
  {
   "cell_type": "markdown",
   "source": [
    "<h4>Random Forest without normalization </h4>"
   ],
   "metadata": {
    "collapsed": false
   }
  },
  {
   "cell_type": "code",
   "execution_count": 109,
   "outputs": [
    {
     "name": "stdout",
     "output_type": "stream",
     "text": [
      "We found the best params {'max_depth': 19, 'max_samples': 0.9, 'n_estimators': 75, 'random_state': 42} with validation RMSE 1.8278 for Random Forest Regressor.\n"
     ]
    }
   ],
   "source": [
    "param_grid_random_forest = {\n",
    "    'n_estimators': range(5, 80, 5),\n",
    "    'max_depth': range(3, 25),\n",
    "    'max_samples': [i / 100 for i in range(5, 100, 5)],\n",
    "    'random_state': [random_seed]\n",
    "}\n",
    "\n",
    "best_params_random_forest = find_best_hyperparameters(CustomRandomForest, param_grid_random_forest, Xtrain, ytrain,\n",
    "                                                      Xval, yval, \"Random Forest Regressor\")\n"
   ],
   "metadata": {
    "collapsed": false
   }
  },
  {
   "cell_type": "code",
   "execution_count": 110,
   "outputs": [
    {
     "name": "stdout",
     "output_type": "stream",
     "text": [
      "RMSE 1.8278213129407834\n",
      "MAE: 1.1128573263350143\n"
     ]
    }
   ],
   "source": [
    "best_random_forest_model = CustomRandomForest(**best_params_random_forest)\n",
    "best_random_forest_model.fit(Xtrain, ytrain)\n",
    "RMSE = metrics.mean_squared_error(yval, best_random_forest_model.predict(Xval), squared=False)\n",
    "MAE = metrics.mean_absolute_error(yval, best_random_forest_model.predict(Xval))\n",
    "print(\"RMSE\", RMSE)\n",
    "print(\"MAE:\", MAE)"
   ],
   "metadata": {
    "collapsed": false
   }
  },
  {
   "cell_type": "markdown",
   "source": [
    "<h4>Random Forest with standard scaler </h4>"
   ],
   "metadata": {
    "collapsed": false
   }
  },
  {
   "cell_type": "code",
   "execution_count": 111,
   "outputs": [
    {
     "name": "stdout",
     "output_type": "stream",
     "text": [
      "We found the best params {'max_depth': 19, 'max_samples': 0.9, 'n_estimators': 75, 'random_state': 42} with validation RMSE 1.8403 for Random Forest Regressor with standard scaler.\n"
     ]
    }
   ],
   "source": [
    "standard_scaler = StandardScaler().fit(Xtrain)\n",
    "df = standard_scaler.transform(Xtrain)\n",
    "Xtrain_standard = pd.DataFrame(df, index=Xtrain.index, columns=Xtrain.columns)\n",
    "df = standard_scaler.transform(Xval)\n",
    "Xval_standard = pd.DataFrame(df, index=Xval.index, columns=Xval.columns)\n",
    "\n",
    "best_params_random_forest_standard = find_best_hyperparameters(CustomRandomForest, param_grid_random_forest, Xtrain_standard, ytrain,\n",
    "                                                               Xval_standard, yval, \"Random Forest Regressor with standard scaler\")"
   ],
   "metadata": {
    "collapsed": false
   }
  },
  {
   "cell_type": "code",
   "execution_count": 112,
   "outputs": [
    {
     "name": "stdout",
     "output_type": "stream",
     "text": [
      "RMSE 1.840336853631326\n",
      "MAE: 1.118651662830576\n"
     ]
    }
   ],
   "source": [
    "best_random_forest_standard_model = CustomRandomForest(**best_params_random_forest_standard)\n",
    "best_random_forest_standard_model.fit(Xtrain_standard, ytrain)\n",
    "RMSE = metrics.mean_squared_error(yval, best_random_forest_standard_model.predict(Xval_standard), squared=False)\n",
    "MAE = metrics.mean_absolute_error(yval, best_random_forest_standard_model.predict(Xval_standard))\n",
    "print(\"RMSE\", RMSE)\n",
    "print(\"MAE:\", MAE)"
   ],
   "metadata": {
    "collapsed": false
   }
  },
  {
   "cell_type": "markdown",
   "source": [
    "<h4>Random Forest with minmax scaler </h4>\n"
   ],
   "metadata": {
    "collapsed": false
   }
  },
  {
   "cell_type": "code",
   "execution_count": 113,
   "outputs": [
    {
     "name": "stdout",
     "output_type": "stream",
     "text": [
      "We found the best params {'max_depth': 14, 'max_samples': 0.9, 'n_estimators': 75, 'random_state': 42} with validation RMSE 1.8320 for Random Forest Regressor with minmax scaler.\n"
     ]
    }
   ],
   "source": [
    "minmax_scaler = MinMaxScaler().fit(Xtrain)\n",
    "df = minmax_scaler.transform(Xtrain)\n",
    "Xtrain_minmax = pd.DataFrame(df, index=Xtrain.index, columns=Xtrain.columns)\n",
    "df = minmax_scaler.transform(Xval)\n",
    "Xval_minmax = pd.DataFrame(df, index=Xval.index, columns=Xval.columns)\n",
    "\n",
    "best_params_random_forest_minmax = find_best_hyperparameters(CustomRandomForest, param_grid_random_forest, Xtrain_minmax, ytrain,\n",
    "                                                             Xval_minmax, yval, \"Random Forest Regressor with minmax scaler\")"
   ],
   "metadata": {
    "collapsed": false
   }
  },
  {
   "cell_type": "code",
   "execution_count": 114,
   "outputs": [
    {
     "name": "stdout",
     "output_type": "stream",
     "text": [
      "RMSE 1.8319802210209266\n",
      "MAE: 1.1271081807929744\n"
     ]
    }
   ],
   "source": [
    "best_random_forest_minmax_model = CustomRandomForest(**best_params_random_forest_minmax)\n",
    "best_random_forest_minmax_model.fit(Xtrain_minmax, ytrain)\n",
    "RMSE = metrics.mean_squared_error(yval, best_random_forest_minmax_model.predict(Xval_minmax), squared=False)\n",
    "MAE = metrics.mean_absolute_error(yval, best_random_forest_minmax_model.predict(Xval_minmax))\n",
    "print(\"RMSE\", RMSE)\n",
    "print(\"MAE:\", MAE)"
   ],
   "metadata": {
    "collapsed": false
   }
  },
  {
   "cell_type": "markdown",
   "source": [
    "It looks like Random forest model performed very similarly with and without normalization. It's not a surprising result. Forest is usually broad enough to deal with outliners in the data."
   ],
   "metadata": {
    "collapsed": false
   }
  },
  {
   "cell_type": "markdown",
   "source": [
    "<h3>Ridge regression</h3>\n",
    "\n",
    "Linear regression assumes linear relationships between all columns. Coefficients are used to represent relationships between the columns.\n",
    "We're finding the best fitting curve of given points by minimizing the sum of the squares of the offsets of the points from the curve.\n",
    "\n",
    "Linear regression can suffer when some columns are correlated (they have very similar values / represent similar information), the variance can\n",
    "increase and the precision of the predictions can suffer.\n",
    "Since our dataset does contain correlated columns, like thinness 5-9 years, thinness 10-19 years or vaccinations, our predictions could be\n",
    "incorrect, where small change in the data could produce big changes in the predictions. That's why we're using ridge regression, trying to\n",
    "counter that scenario with changing alpha. Ridge regression tries to penalize the multicollinearity and thus decreasing the risk of incorrect predictions.\n",
    "\n",
    "Merging the correlated columns could help the regression, as we'll do later.\n",
    "\n",
    "As stated before, if the relationships between the columns are non-linear, this model won't produce the best results. Since Random Forest doesn't assume the linearity, it could greatly outperform the ridge regression."
   ],
   "metadata": {
    "collapsed": false
   }
  },
  {
   "cell_type": "markdown",
   "source": [
    "Firstly, we'll try to predict without normalization, and then with using standard scaler and minmax scaler. Since the data is not evenly\n",
    "distributed, and we have huge outliners, normalization should be a good idea."
   ],
   "metadata": {
    "collapsed": false
   }
  },
  {
   "cell_type": "code",
   "execution_count": 115,
   "outputs": [],
   "source": [
    "def get_best_ridge_model(Xtrain, ytrain, Xval, yval, also_plot=False):\n",
    "    def ridgemodel_eval(alpha):\n",
    "        if alpha == 0:\n",
    "            # the Ridge library said that we should use LinearRegression if alpha is 0\n",
    "            clf = LinearRegression()\n",
    "        else:\n",
    "            clf = Ridge(alpha=alpha)\n",
    "        clf.fit(Xtrain, ytrain)\n",
    "        return metrics.mean_squared_error(yval, clf.predict(Xval), squared=False)\n",
    "\n",
    "    if also_plot:\n",
    "        alphas = np.linspace(0,500,100)\n",
    "        alphas_res = [ridgemodel_eval(alpha) for alpha in alphas]\n",
    "        plt.plot(alphas, alphas_res, '.')\n",
    "        plt.xlabel(\"alpha\")\n",
    "        plt.ylabel(\"RMSE\")\n",
    "        plt.show()\n",
    "\n",
    "    opt_alpha = optimize.minimize_scalar(ridgemodel_eval, options={'maxiter': 30}, method='bounded', bounds=(0, 400))\n",
    "\n",
    "    if opt_alpha.x == 0:\n",
    "        opt_model = LinearRegression()\n",
    "    else:\n",
    "        opt_model = Ridge(alpha=opt_alpha.x)\n",
    "    opt_model.fit(Xtrain, ytrain)\n",
    "    return opt_model, opt_alpha.x"
   ],
   "metadata": {
    "collapsed": false
   }
  },
  {
   "cell_type": "markdown",
   "source": [
    "<h4>Ridge regression without normalization</h4>"
   ],
   "metadata": {
    "collapsed": false
   }
  },
  {
   "cell_type": "code",
   "execution_count": 116,
   "outputs": [
    {
     "name": "stdout",
     "output_type": "stream",
     "text": [
      "Optimal alpha for Ridge regression without normalization: 1.2580948093619837, with RMSE: 4.065262343889456\n"
     ]
    },
    {
     "name": "stderr",
     "output_type": "stream",
     "text": [
      "/Library/Python/3.9/site-packages/sklearn/linear_model/_ridge.py:212: LinAlgWarning: Ill-conditioned matrix (rcond=7.61704e-17): result may not be accurate.\n",
      "  return linalg.solve(A, Xy, assume_a=\"pos\", overwrite_a=True).T\n",
      "/Library/Python/3.9/site-packages/sklearn/linear_model/_ridge.py:212: LinAlgWarning: Ill-conditioned matrix (rcond=5.03202e-17): result may not be accurate.\n",
      "  return linalg.solve(A, Xy, assume_a=\"pos\", overwrite_a=True).T\n",
      "/Library/Python/3.9/site-packages/sklearn/linear_model/_ridge.py:212: LinAlgWarning: Ill-conditioned matrix (rcond=3.43951e-17): result may not be accurate.\n",
      "  return linalg.solve(A, Xy, assume_a=\"pos\", overwrite_a=True).T\n",
      "/Library/Python/3.9/site-packages/sklearn/linear_model/_ridge.py:212: LinAlgWarning: Ill-conditioned matrix (rcond=2.45845e-17): result may not be accurate.\n",
      "  return linalg.solve(A, Xy, assume_a=\"pos\", overwrite_a=True).T\n",
      "/Library/Python/3.9/site-packages/sklearn/linear_model/_ridge.py:212: LinAlgWarning: Ill-conditioned matrix (rcond=1.85386e-17): result may not be accurate.\n",
      "  return linalg.solve(A, Xy, assume_a=\"pos\", overwrite_a=True).T\n",
      "/Library/Python/3.9/site-packages/sklearn/linear_model/_ridge.py:212: LinAlgWarning: Ill-conditioned matrix (rcond=1.48106e-17): result may not be accurate.\n",
      "  return linalg.solve(A, Xy, assume_a=\"pos\", overwrite_a=True).T\n",
      "/Library/Python/3.9/site-packages/sklearn/linear_model/_ridge.py:212: LinAlgWarning: Ill-conditioned matrix (rcond=1.25106e-17): result may not be accurate.\n",
      "  return linalg.solve(A, Xy, assume_a=\"pos\", overwrite_a=True).T\n",
      "/Library/Python/3.9/site-packages/sklearn/linear_model/_ridge.py:212: LinAlgWarning: Ill-conditioned matrix (rcond=1.10907e-17): result may not be accurate.\n",
      "  return linalg.solve(A, Xy, assume_a=\"pos\", overwrite_a=True).T\n",
      "/Library/Python/3.9/site-packages/sklearn/linear_model/_ridge.py:212: LinAlgWarning: Ill-conditioned matrix (rcond=1.02139e-17): result may not be accurate.\n",
      "  return linalg.solve(A, Xy, assume_a=\"pos\", overwrite_a=True).T\n",
      "/Library/Python/3.9/site-packages/sklearn/linear_model/_ridge.py:212: LinAlgWarning: Ill-conditioned matrix (rcond=9.67232e-18): result may not be accurate.\n",
      "  return linalg.solve(A, Xy, assume_a=\"pos\", overwrite_a=True).T\n",
      "/Library/Python/3.9/site-packages/sklearn/linear_model/_ridge.py:212: LinAlgWarning: Ill-conditioned matrix (rcond=9.03914e-18): result may not be accurate.\n",
      "  return linalg.solve(A, Xy, assume_a=\"pos\", overwrite_a=True).T\n",
      "/Library/Python/3.9/site-packages/sklearn/linear_model/_ridge.py:212: LinAlgWarning: Ill-conditioned matrix (rcond=9.28096e-18): result may not be accurate.\n",
      "  return linalg.solve(A, Xy, assume_a=\"pos\", overwrite_a=True).T\n",
      "/Library/Python/3.9/site-packages/sklearn/linear_model/_ridge.py:212: LinAlgWarning: Ill-conditioned matrix (rcond=9.35513e-18): result may not be accurate.\n",
      "  return linalg.solve(A, Xy, assume_a=\"pos\", overwrite_a=True).T\n",
      "/Library/Python/3.9/site-packages/sklearn/linear_model/_ridge.py:212: LinAlgWarning: Ill-conditioned matrix (rcond=9.34298e-18): result may not be accurate.\n",
      "  return linalg.solve(A, Xy, assume_a=\"pos\", overwrite_a=True).T\n",
      "/Library/Python/3.9/site-packages/sklearn/linear_model/_ridge.py:212: LinAlgWarning: Ill-conditioned matrix (rcond=9.34465e-18): result may not be accurate.\n",
      "  return linalg.solve(A, Xy, assume_a=\"pos\", overwrite_a=True).T\n",
      "/Library/Python/3.9/site-packages/sklearn/linear_model/_ridge.py:212: LinAlgWarning: Ill-conditioned matrix (rcond=9.3446e-18): result may not be accurate.\n",
      "  return linalg.solve(A, Xy, assume_a=\"pos\", overwrite_a=True).T\n",
      "/Library/Python/3.9/site-packages/sklearn/linear_model/_ridge.py:212: LinAlgWarning: Ill-conditioned matrix (rcond=9.34459e-18): result may not be accurate.\n",
      "  return linalg.solve(A, Xy, assume_a=\"pos\", overwrite_a=True).T\n",
      "/Library/Python/3.9/site-packages/sklearn/linear_model/_ridge.py:212: LinAlgWarning: Ill-conditioned matrix (rcond=9.34459e-18): result may not be accurate.\n",
      "  return linalg.solve(A, Xy, assume_a=\"pos\", overwrite_a=True).T\n",
      "/Library/Python/3.9/site-packages/sklearn/linear_model/_ridge.py:212: LinAlgWarning: Ill-conditioned matrix (rcond=9.34459e-18): result may not be accurate.\n",
      "  return linalg.solve(A, Xy, assume_a=\"pos\", overwrite_a=True).T\n"
     ]
    }
   ],
   "source": [
    "best_ridge_model, best_alpha = get_best_ridge_model(Xtrain, ytrain, Xval, yval)\n",
    "\n",
    "RMSE = metrics.mean_squared_error(yval, best_ridge_model.predict(Xval), squared=False)\n",
    "print(f'Optimal alpha for Ridge regression without normalization: {best_alpha}, with RMSE: {RMSE}')\n"
   ],
   "metadata": {
    "collapsed": false
   }
  },
  {
   "cell_type": "code",
   "execution_count": 117,
   "outputs": [
    {
     "name": "stdout",
     "output_type": "stream",
     "text": [
      "RMSE 4.065262343889456\n",
      "MAE: 3.0274626477893287\n"
     ]
    }
   ],
   "source": [
    "RMSE = metrics.mean_squared_error(yval, best_ridge_model.predict(Xval), squared=False)\n",
    "MAE = metrics.mean_absolute_error(yval, best_ridge_model.predict(Xval))\n",
    "print(\"RMSE\", RMSE)\n",
    "print(\"MAE:\", MAE)"
   ],
   "metadata": {
    "collapsed": false
   }
  },
  {
   "cell_type": "markdown",
   "source": [
    "As we can see even from the warnings, using normalization is the way to go."
   ],
   "metadata": {
    "collapsed": false
   }
  },
  {
   "cell_type": "markdown",
   "source": [
    "<h4>Ridge regression with standard scaler</h4>"
   ],
   "metadata": {
    "collapsed": false
   }
  },
  {
   "cell_type": "code",
   "execution_count": 118,
   "outputs": [
    {
     "name": "stdout",
     "output_type": "stream",
     "text": [
      "Optimal alpha for Ridge regression with standard scaler: 0.0002149961999422286, with RMSE: 4.065563251055125\n"
     ]
    }
   ],
   "source": [
    "best_ridge_model_standard, best_alpha = get_best_ridge_model(Xtrain_standard, ytrain, Xval_standard, yval)\n",
    "\n",
    "RMSE = metrics.mean_squared_error(yval, best_ridge_model_standard.predict(Xval_standard), squared=False)\n",
    "print(f'Optimal alpha for Ridge regression with standard scaler: {best_alpha}, with RMSE: {RMSE}')\n"
   ],
   "metadata": {
    "collapsed": false
   }
  },
  {
   "cell_type": "code",
   "execution_count": 119,
   "outputs": [
    {
     "name": "stdout",
     "output_type": "stream",
     "text": [
      "RMSE 4.065563251055125\n",
      "MAE: 3.0263039044577402\n"
     ]
    }
   ],
   "source": [
    "RMSE = metrics.mean_squared_error(yval, best_ridge_model_standard.predict(Xval_standard), squared=False)\n",
    "MAE = metrics.mean_absolute_error(yval, best_ridge_model_standard.predict(Xval_standard))\n",
    "print(\"RMSE\", RMSE)\n",
    "print(\"MAE:\", MAE)"
   ],
   "metadata": {
    "collapsed": false
   }
  },
  {
   "cell_type": "markdown",
   "source": [
    "<h4>Ridge regression with minmax scaler</h4>"
   ],
   "metadata": {
    "collapsed": false
   }
  },
  {
   "cell_type": "code",
   "execution_count": 120,
   "outputs": [
    {
     "data": {
      "text/plain": "<Figure size 640x480 with 1 Axes>",
      "image/png": "[encoded data removed]"
     },
     "metadata": {},
     "output_type": "display_data"
    },
    {
     "name": "stdout",
     "output_type": "stream",
     "text": [
      "Optimal alpha for Ridge regression with minmax scaler: 0.0002149961999422286, with RMSE: 4.06584228536711\n"
     ]
    }
   ],
   "source": [
    "best_ridge_model_minmax, best_alpha = get_best_ridge_model(Xtrain_minmax, ytrain, Xval_minmax, yval, also_plot=True)\n",
    "\n",
    "RMSE = metrics.mean_squared_error(yval, best_ridge_model_minmax.predict(Xval_minmax), squared=False)\n",
    "print(f'Optimal alpha for Ridge regression with minmax scaler: {best_alpha}, with RMSE: {RMSE}')\n"
   ],
   "metadata": {
    "collapsed": false
   }
  },
  {
   "cell_type": "code",
   "execution_count": 121,
   "outputs": [
    {
     "name": "stdout",
     "output_type": "stream",
     "text": [
      "RMSE 4.06584228536711\n",
      "MAE: 3.025621689087607\n"
     ]
    }
   ],
   "source": [
    "RMSE = metrics.mean_squared_error(yval, best_ridge_model_minmax.predict(Xval_minmax), squared=False)\n",
    "MAE = metrics.mean_absolute_error(yval, best_ridge_model_minmax.predict(Xval_minmax))\n",
    "print(\"RMSE\", RMSE)\n",
    "print(\"MAE:\", MAE)"
   ],
   "metadata": {
    "collapsed": false
   }
  },
  {
   "cell_type": "markdown",
   "source": [
    "Wow, RMSE and MAE ended up being very similar with and without normalization. The only thing that has changed was alpha. It looks like we needed to penalize the outliners with the higher alpha when not using normalization. After normalization, we seem to no longer need alpha and classic regression could be better.\n",
    "\n",
    "I'd still use normalization with regular regression, because normalization is the principled thing to do here, but the results were definitely interesting."
   ],
   "metadata": {
    "collapsed": false
   }
  },
  {
   "cell_type": "markdown",
   "source": [
    "<h3>K Nearest Neighbours</h3>\n",
    "\n",
    "It's a method of finding k nearest neighbors of a point and from their predicted value (y), we're predicting the value of our point.\n",
    "\n",
    "Advantages:\n",
    "KNN is useful when the relationship between the columns is non-linear compared to regression.\n",
    "We don't make any assumptions about the data (unlike trees), so it tends to do well with overfitting and bias.\n",
    "\n",
    "Disadvantages:\n",
    "KNN has a well known phenomenon, Curse of dimensionality - the more columns we have, the further away our data are from each other and our performance is\n",
    "decreasing. Correlated columns could also decrease KNN's predictive capabilities and picking the wrong neighbors.\n",
    "Large datasets would require a lot more computational power to predict than trees.\n"
   ],
   "metadata": {
    "collapsed": false
   }
  },
  {
   "cell_type": "markdown",
   "source": [
    "Just like for regression, KNN tends to do better with normalized data, especially when they're not evenly distributed.\n",
    "\n",
    "We'll first try without normalization and then with, comparing the results."
   ],
   "metadata": {
    "collapsed": false
   }
  },
  {
   "cell_type": "markdown",
   "source": [
    "<h4>KNN without normalization</h4>"
   ],
   "metadata": {
    "collapsed": false
   }
  },
  {
   "cell_type": "code",
   "execution_count": 122,
   "outputs": [
    {
     "name": "stdout",
     "output_type": "stream",
     "text": [
      "We found the best params {'n_neighbors': 31, 'p': 1, 'weights': 'distance'} with validation RMSE 9.0768 for KNN.\n"
     ]
    }
   ],
   "source": [
    "param_grid_knn = {\n",
    "    'n_neighbors': range(1, 50),\n",
    "    'weights': ['uniform', 'distance'],\n",
    "    \"p\": [1, 2],  # manhattan_distance, euclidean_distance\n",
    "}\n",
    "\n",
    "best_params_knn = find_best_hyperparameters(KNeighborsRegressor, param_grid_knn, Xtrain, ytrain, Xval, yval, \"KNN\")\n"
   ],
   "metadata": {
    "collapsed": false
   }
  },
  {
   "cell_type": "code",
   "execution_count": 123,
   "outputs": [
    {
     "name": "stdout",
     "output_type": "stream",
     "text": [
      "RMSE 9.076761256548592\n",
      "MAE: 7.318771392224269\n"
     ]
    }
   ],
   "source": [
    "best_knn_model = KNeighborsRegressor(**best_params_knn)\n",
    "best_knn_model.fit(Xtrain, ytrain)\n",
    "RMSE = metrics.mean_squared_error(yval, best_knn_model.predict(Xval), squared=False)\n",
    "MAE = metrics.mean_absolute_error(yval, best_knn_model.predict(Xval))\n",
    "print(\"RMSE\", RMSE)\n",
    "print(\"MAE:\", MAE)\n"
   ],
   "metadata": {
    "collapsed": false
   }
  },
  {
   "cell_type": "markdown",
   "source": [
    "<h4>KNN with standard scaler</h4>"
   ],
   "metadata": {
    "collapsed": false
   }
  },
  {
   "cell_type": "code",
   "execution_count": 124,
   "outputs": [
    {
     "name": "stdout",
     "output_type": "stream",
     "text": [
      "We found the best params {'n_neighbors': 4, 'p': 1, 'weights': 'distance'} with validation RMSE 2.4126 for KNN standard scaler.\n"
     ]
    }
   ],
   "source": [
    "best_params_knn_standard = find_best_hyperparameters(KNeighborsRegressor, param_grid_knn, Xtrain_standard, ytrain,\n",
    "                                                     Xval_standard, yval, \"KNN standard scaler\")\n"
   ],
   "metadata": {
    "collapsed": false
   }
  },
  {
   "cell_type": "code",
   "execution_count": 125,
   "outputs": [
    {
     "name": "stdout",
     "output_type": "stream",
     "text": [
      "RMSE 2.412626138049555\n",
      "MAE: 1.518173825358196\n"
     ]
    }
   ],
   "source": [
    "best_knn_standard_model = KNeighborsRegressor(**best_params_knn_standard)\n",
    "best_knn_standard_model.fit(Xtrain_standard, ytrain)\n",
    "RMSE = metrics.mean_squared_error(yval, best_knn_standard_model.predict(Xval_standard), squared=False)\n",
    "MAE = metrics.mean_absolute_error(yval, best_knn_standard_model.predict(Xval_standard))\n",
    "print(\"RMSE\", RMSE)\n",
    "print(\"MAE:\", MAE)"
   ],
   "metadata": {
    "collapsed": false
   }
  },
  {
   "cell_type": "markdown",
   "source": [
    "<h4>KNN with minmax scaler</h4>"
   ],
   "metadata": {
    "collapsed": false
   }
  },
  {
   "cell_type": "code",
   "execution_count": 126,
   "outputs": [
    {
     "name": "stdout",
     "output_type": "stream",
     "text": [
      "We found the best params {'n_neighbors': 3, 'p': 1, 'weights': 'distance'} with validation RMSE 2.5722 for KNN minmax scaler.\n"
     ]
    }
   ],
   "source": [
    "best_params_knn_minmax = find_best_hyperparameters(KNeighborsRegressor, param_grid_knn, Xtrain_minmax, ytrain,\n",
    "                                                   Xval_minmax, yval, \"KNN minmax scaler\")"
   ],
   "metadata": {
    "collapsed": false
   }
  },
  {
   "cell_type": "code",
   "execution_count": 127,
   "outputs": [
    {
     "name": "stdout",
     "output_type": "stream",
     "text": [
      "RMSE 2.5721811151096454\n",
      "MAE: 1.6278771428806693\n"
     ]
    }
   ],
   "source": [
    "best_knn_minmax_model = KNeighborsRegressor(**best_params_knn_minmax)\n",
    "best_knn_minmax_model.fit(Xtrain_minmax, ytrain)\n",
    "RMSE = metrics.mean_squared_error(yval, best_knn_minmax_model.predict(Xval_minmax), squared=False)\n",
    "MAE = metrics.mean_absolute_error(yval, best_knn_minmax_model.predict(Xval_minmax))\n",
    "print(\"RMSE\", RMSE)\n",
    "print(\"MAE:\", MAE)"
   ],
   "metadata": {
    "collapsed": false
   }
  },
  {
   "cell_type": "markdown",
   "source": [
    "This time without a shock, KNN with normalization performed a lot better than without it, with standard scaler having the best RMSE and MAE, having the least errors in prediction.\n",
    "\n",
    "It looks like out of the 3 algorithms, KNN is the worst at dealing with outliners and needs normalization."
   ],
   "metadata": {
    "collapsed": false
   }
  },
  {
   "cell_type": "markdown",
   "source": [
    "<h1>Predicting with merging columns</h1>"
   ],
   "metadata": {
    "collapsed": false
   }
  },
  {
   "cell_type": "markdown",
   "source": [
    "Now we're going to merge the columns that are similar. Thinness of kids between 5-9 years and thinness of kids between 10-19 years shows extremely similar values.\n",
    "They're very correlated, so we'll join them by using their mean.\n",
    "\n",
    "All vaccination columns also have very similar values and are highly correlated, we'll also merge them by mean. The data will then represent the average vaccination\n",
    "for that country.\n",
    "\n",
    "I was also considering merging under five deaths and infant deaths, and I did, but the results of the model predictions were worse. Also, these values, even though they correlate, they're different (under five deaths is always more). So I ended up showing the version without merging them here.\n",
    "\n",
    "I also tried firstly merging the columns from the raw dataset, and just then imputing missing values, but the result ended up being similar."
   ],
   "metadata": {
    "collapsed": false
   }
  },
  {
   "cell_type": "code",
   "execution_count": 128,
   "outputs": [
    {
     "data": {
      "text/plain": "                                         Adult Mortality  infant deaths  \\\nCountry                            Year                                   \nBarbados                           2010             16.0            0.0   \nChad                               2010            364.0           46.0   \nVenezuela (Bolivarian Republic of) 2013            159.0            9.0   \nEritrea                            2005             34.0            7.0   \nNamibia                            2005            477.0            3.0   \n...                                                  ...            ...   \nMozambique                         2011             47.0           66.0   \nIndia                              2002            219.0         1700.0   \nIraq                               2009            148.0           32.0   \nKyrgyzstan                         2015            166.0            3.0   \nFrance                             2005             93.0            3.0   \n\n                                         Alcohol  percentage expenditure  \\\nCountry                            Year                                    \nBarbados                           2010   8.4100              154.963086   \nChad                               2010   0.5000               43.573289   \nVenezuela (Bolivarian Republic of) 2013   6.7100                0.000000   \nEritrea                            2005   1.0700                5.064689   \nNamibia                            2005   4.8900              457.720052   \n...                                          ...                     ...   \nMozambique                         2011   0.9400               40.806180   \nIndia                              2002   1.1000               17.812056   \nIraq                               2009   0.2000              185.636698   \nKyrgyzstan                         2015   8.5848                0.000000   \nFrance                             2005  12.2000             5451.701225   \n\n                                         Measles   BMI  under-five deaths  \\\nCountry                            Year                                     \nBarbados                           2010      0.0   5.7                0.0   \nChad                               2010    194.0  17.1               80.0   \nVenezuela (Bolivarian Republic of) 2013      0.0  61.0               10.0   \nEritrea                            2005     19.0  13.9                9.0   \nNamibia                            2005      4.0  27.9                4.0   \n...                                          ...   ...                ...   \nMozambique                         2011    177.0   2.9               94.0   \nIndia                              2002  40044.0  12.2             2300.0   \nIraq                               2009  30328.0  55.2               39.0   \nKyrgyzstan                         2015  17779.0  44.9                3.0   \nFrance                             2005     36.0  57.5                4.0   \n\n                                         Total expenditure  HIV/AIDS  \\\nCountry                            Year                                \nBarbados                           2010             6.1700       0.1   \nChad                               2010             2.9500       4.1   \nVenezuela (Bolivarian Republic of) 2013             4.9400       0.1   \nEritrea                            2005             2.9700       1.6   \nNamibia                            2005             7.3200      22.1   \n...                                                    ...       ...   \nMozambique                         2011             6.2300       9.6   \nIndia                              2002             4.4000       0.3   \nIraq                               2009             4.6500       0.1   \nKyrgyzstan                         2015             6.6572       0.1   \nFrance                             2005             1.6000       0.1   \n\n                                                  GDP   Population  \\\nCountry                            Year                              \nBarbados                           2010   1595.912320   1443878.18   \nChad                               2010    896.569734   1188722.00   \nVenezuela (Bolivarian Republic of) 2013   3697.260045  16908805.99   \nEritrea                            2005    276.758960     39697.00   \nNamibia                            2005   3573.146387    232196.00   \n...                                               ...          ...   \nMozambique                         2011    526.531352    249395.00   \nIndia                              2002    466.284200  18987112.00   \nIraq                               2009   3735.144836  29894652.00   \nKyrgyzstan                         2015   6622.955302  10473835.93   \nFrance                             2005  34879.726330  63179356.00   \n\n                                         Income composition of resources  \\\nCountry                            Year                                    \nBarbados                           2010                            0.781   \nChad                               2010                            0.360   \nVenezuela (Bolivarian Republic of) 2013                            0.770   \nEritrea                            2005                            0.000   \nNamibia                            2005                            0.565   \n...                                                                  ...   \nMozambique                         2011                            0.397   \nIndia                              2002                            0.499   \nIraq                               2009                            0.643   \nKyrgyzstan                         2015                            0.662   \nFrance                             2005                            0.860   \n\n                                         Schooling  Status_Developing    year  \\\nCountry                            Year                                         \nBarbados                           2010       15.8                1.0  2010.0   \nChad                               2010        6.7                1.0  2010.0   \nVenezuela (Bolivarian Republic of) 2013       14.2                1.0  2013.0   \nEritrea                            2005        5.4                1.0  2005.0   \nNamibia                            2005       11.6                1.0  2005.0   \n...                                            ...                ...     ...   \nMozambique                         2011        9.5                1.0  2011.0   \nIndia                              2002        8.4                1.0  2002.0   \nIraq                               2009       10.3                1.0  2009.0   \nKyrgyzstan                         2015       13.0                1.0  2015.0   \nFrance                             2005       15.5                1.0  2005.0   \n\n                                         thinness_children  vaccination  \nCountry                            Year                                  \nBarbados                           2010               3.80    60.333333  \nChad                               2010               9.35    40.333333  \nVenezuela (Bolivarian Republic of) 2013               1.55    82.000000  \nEritrea                            2005               9.45    96.000000  \nNamibia                            2005              13.10    80.573333  \n...                                                    ...          ...  \nMozambique                         2011               3.65    75.000000  \nIndia                              2002              27.90    50.076667  \nIraq                               2009               5.25    77.000000  \nKyrgyzstan                         2015               3.35    97.000000  \nFrance                             2005               0.60    77.000000  \n\n[1630 rows x 17 columns]",
      "text/html": "<div>\n<style scoped>\n    .dataframe tbody tr th:only-of-type {\n        vertical-align: middle;\n    }\n\n    .dataframe tbody tr th {\n        vertical-align: top;\n    }\n\n    .dataframe thead th {\n        text-align: right;\n    }\n</style>\n<table border=\"1\" class=\"dataframe\">\n  <thead>\n    <tr style=\"text-align: right;\">\n      <th></th>\n      <th></th>\n      <th>Adult Mortality</th>\n      <th>infant deaths</th>\n      <th>Alcohol</th>\n      <th>percentage expenditure</th>\n      <th>Measles</th>\n      <th>BMI</th>\n      <th>under-five deaths</th>\n      <th>Total expenditure</th>\n      <th>HIV/AIDS</th>\n      <th>GDP</th>\n      <th>Population</th>\n      <th>Income composition of resources</th>\n      <th>Schooling</th>\n      <th>Status_Developing</th>\n      <th>year</th>\n      <th>thinness_children</th>\n      <th>vaccination</th>\n    </tr>\n    <tr>\n      <th>Country</th>\n      <th>Year</th>\n      <th></th>\n      <th></th>\n      <th></th>\n      <th></th>\n      <th></th>\n      <th></th>\n      <th></th>\n      <th></th>\n      <th></th>\n      <th></th>\n      <th></th>\n      <th></th>\n      <th></th>\n      <th></th>\n      <th></th>\n      <th></th>\n      <th></th>\n    </tr>\n  </thead>\n  <tbody>\n    <tr>\n      <th>Barbados</th>\n      <th>2010</th>\n      <td>16.0</td>\n      <td>0.0</td>\n      <td>8.4100</td>\n      <td>154.963086</td>\n      <td>0.0</td>\n      <td>5.7</td>\n      <td>0.0</td>\n      <td>6.1700</td>\n      <td>0.1</td>\n      <td>1595.912320</td>\n      <td>1443878.18</td>\n      <td>0.781</td>\n      <td>15.8</td>\n      <td>1.0</td>\n      <td>2010.0</td>\n      <td>3.80</td>\n      <td>60.333333</td>\n    </tr>\n    <tr>\n      <th>Chad</th>\n      <th>2010</th>\n      <td>364.0</td>\n      <td>46.0</td>\n      <td>0.5000</td>\n      <td>43.573289</td>\n      <td>194.0</td>\n      <td>17.1</td>\n      <td>80.0</td>\n      <td>2.9500</td>\n      <td>4.1</td>\n      <td>896.569734</td>\n      <td>1188722.00</td>\n      <td>0.360</td>\n      <td>6.7</td>\n      <td>1.0</td>\n      <td>2010.0</td>\n      <td>9.35</td>\n      <td>40.333333</td>\n    </tr>\n    <tr>\n      <th>Venezuela (Bolivarian Republic of)</th>\n      <th>2013</th>\n      <td>159.0</td>\n      <td>9.0</td>\n      <td>6.7100</td>\n      <td>0.000000</td>\n      <td>0.0</td>\n      <td>61.0</td>\n      <td>10.0</td>\n      <td>4.9400</td>\n      <td>0.1</td>\n      <td>3697.260045</td>\n      <td>16908805.99</td>\n      <td>0.770</td>\n      <td>14.2</td>\n      <td>1.0</td>\n      <td>2013.0</td>\n      <td>1.55</td>\n      <td>82.000000</td>\n    </tr>\n    <tr>\n      <th>Eritrea</th>\n      <th>2005</th>\n      <td>34.0</td>\n      <td>7.0</td>\n      <td>1.0700</td>\n      <td>5.064689</td>\n      <td>19.0</td>\n      <td>13.9</td>\n      <td>9.0</td>\n      <td>2.9700</td>\n      <td>1.6</td>\n      <td>276.758960</td>\n      <td>39697.00</td>\n      <td>0.000</td>\n      <td>5.4</td>\n      <td>1.0</td>\n      <td>2005.0</td>\n      <td>9.45</td>\n      <td>96.000000</td>\n    </tr>\n    <tr>\n      <th>Namibia</th>\n      <th>2005</th>\n      <td>477.0</td>\n      <td>3.0</td>\n      <td>4.8900</td>\n      <td>457.720052</td>\n      <td>4.0</td>\n      <td>27.9</td>\n      <td>4.0</td>\n      <td>7.3200</td>\n      <td>22.1</td>\n      <td>3573.146387</td>\n      <td>232196.00</td>\n      <td>0.565</td>\n      <td>11.6</td>\n      <td>1.0</td>\n      <td>2005.0</td>\n      <td>13.10</td>\n      <td>80.573333</td>\n    </tr>\n    <tr>\n      <th>...</th>\n      <th>...</th>\n      <td>...</td>\n      <td>...</td>\n      <td>...</td>\n      <td>...</td>\n      <td>...</td>\n      <td>...</td>\n      <td>...</td>\n      <td>...</td>\n      <td>...</td>\n      <td>...</td>\n      <td>...</td>\n      <td>...</td>\n      <td>...</td>\n      <td>...</td>\n      <td>...</td>\n      <td>...</td>\n      <td>...</td>\n    </tr>\n    <tr>\n      <th>Mozambique</th>\n      <th>2011</th>\n      <td>47.0</td>\n      <td>66.0</td>\n      <td>0.9400</td>\n      <td>40.806180</td>\n      <td>177.0</td>\n      <td>2.9</td>\n      <td>94.0</td>\n      <td>6.2300</td>\n      <td>9.6</td>\n      <td>526.531352</td>\n      <td>249395.00</td>\n      <td>0.397</td>\n      <td>9.5</td>\n      <td>1.0</td>\n      <td>2011.0</td>\n      <td>3.65</td>\n      <td>75.000000</td>\n    </tr>\n    <tr>\n      <th>India</th>\n      <th>2002</th>\n      <td>219.0</td>\n      <td>1700.0</td>\n      <td>1.1000</td>\n      <td>17.812056</td>\n      <td>40044.0</td>\n      <td>12.2</td>\n      <td>2300.0</td>\n      <td>4.4000</td>\n      <td>0.3</td>\n      <td>466.284200</td>\n      <td>18987112.00</td>\n      <td>0.499</td>\n      <td>8.4</td>\n      <td>1.0</td>\n      <td>2002.0</td>\n      <td>27.90</td>\n      <td>50.076667</td>\n    </tr>\n    <tr>\n      <th>Iraq</th>\n      <th>2009</th>\n      <td>148.0</td>\n      <td>32.0</td>\n      <td>0.2000</td>\n      <td>185.636698</td>\n      <td>30328.0</td>\n      <td>55.2</td>\n      <td>39.0</td>\n      <td>4.6500</td>\n      <td>0.1</td>\n      <td>3735.144836</td>\n      <td>29894652.00</td>\n      <td>0.643</td>\n      <td>10.3</td>\n      <td>1.0</td>\n      <td>2009.0</td>\n      <td>5.25</td>\n      <td>77.000000</td>\n    </tr>\n    <tr>\n      <th>Kyrgyzstan</th>\n      <th>2015</th>\n      <td>166.0</td>\n      <td>3.0</td>\n      <td>8.5848</td>\n      <td>0.000000</td>\n      <td>17779.0</td>\n      <td>44.9</td>\n      <td>3.0</td>\n      <td>6.6572</td>\n      <td>0.1</td>\n      <td>6622.955302</td>\n      <td>10473835.93</td>\n      <td>0.662</td>\n      <td>13.0</td>\n      <td>1.0</td>\n      <td>2015.0</td>\n      <td>3.35</td>\n      <td>97.000000</td>\n    </tr>\n    <tr>\n      <th>France</th>\n      <th>2005</th>\n      <td>93.0</td>\n      <td>3.0</td>\n      <td>12.2000</td>\n      <td>5451.701225</td>\n      <td>36.0</td>\n      <td>57.5</td>\n      <td>4.0</td>\n      <td>1.6000</td>\n      <td>0.1</td>\n      <td>34879.726330</td>\n      <td>63179356.00</td>\n      <td>0.860</td>\n      <td>15.5</td>\n      <td>1.0</td>\n      <td>2005.0</td>\n      <td>0.60</td>\n      <td>77.000000</td>\n    </tr>\n  </tbody>\n</table>\n<p>1630 rows × 17 columns</p>\n</div>"
     },
     "execution_count": 128,
     "metadata": {},
     "output_type": "execute_result"
    }
   ],
   "source": [
    "def merge_columns(df: pd.DataFrame) -> pd.DataFrame:\n",
    "    df_new = df.copy()\n",
    "    df_new[\"thinness_children\"] = df_new[[\"thinness 5-9 years\", \"thinness  1-19 years\"]].mean(axis=1)\n",
    "    df_new[\"vaccination\"] = df_new[[\"Hepatitis B\", \"Polio\", \"Diphtheria\"]].mean(axis=1)\n",
    "\n",
    "    return df_new.drop([\"thinness 5-9 years\", \"thinness  1-19 years\", \"Hepatitis B\", \"Polio\", \"Diphtheria\"], axis=1)\n",
    "\n",
    "Xtrain_merged = merge_columns(Xtrain)\n",
    "Xval_merged = merge_columns(Xval)\n",
    "\n",
    "Xtrain_merged"
   ],
   "metadata": {
    "collapsed": false
   }
  },
  {
   "cell_type": "markdown",
   "source": [
    "<h3>Random forest for merged columns</h3>"
   ],
   "metadata": {
    "collapsed": false
   }
  },
  {
   "cell_type": "markdown",
   "source": [
    "<h4>Random forest for merged columns without normalization</h4>"
   ],
   "metadata": {
    "collapsed": false
   }
  },
  {
   "cell_type": "code",
   "execution_count": 129,
   "outputs": [
    {
     "name": "stdout",
     "output_type": "stream",
     "text": [
      "We found the best params {'max_depth': 21, 'max_samples': 0.9, 'n_estimators': 75, 'random_state': 42} with validation RMSE 1.8387 for Random Forest Regressor merged columns.\n"
     ]
    }
   ],
   "source": [
    "best_params_random_forest_merged = find_best_hyperparameters(CustomRandomForest, param_grid_random_forest, Xtrain_merged, ytrain,\n",
    "                                                             Xval_merged, yval, \"Random Forest Regressor merged columns\")\n"
   ],
   "metadata": {
    "collapsed": false
   }
  },
  {
   "cell_type": "code",
   "execution_count": 130,
   "outputs": [
    {
     "name": "stdout",
     "output_type": "stream",
     "text": [
      "RMSE 1.8387052529513346\n",
      "MAE: 1.1342694778308853\n"
     ]
    }
   ],
   "source": [
    "best_random_forest_merged_model = CustomRandomForest(**best_params_random_forest_merged)\n",
    "best_random_forest_merged_model.fit(Xtrain_merged, ytrain)\n",
    "RMSE = metrics.mean_squared_error(yval, best_random_forest_merged_model.predict(Xval_merged), squared=False)\n",
    "MAE = metrics.mean_absolute_error(yval, best_random_forest_merged_model.predict(Xval_merged))\n",
    "print(\"RMSE\", RMSE)\n",
    "print(\"MAE:\", MAE)"
   ],
   "metadata": {
    "collapsed": false
   }
  },
  {
   "cell_type": "markdown",
   "source": [
    "<h4>Random forest for merged columns with standard scaler</h4>"
   ],
   "metadata": {
    "collapsed": false
   }
  },
  {
   "cell_type": "code",
   "execution_count": 131,
   "outputs": [],
   "source": [
    "standard_scaler_merged = StandardScaler().fit(Xtrain_merged)\n",
    "df = standard_scaler_merged.transform(Xtrain_merged)\n",
    "Xtrain_standard_merged = pd.DataFrame(df, index=Xtrain_merged.index, columns=Xtrain_merged.columns)\n",
    "df = standard_scaler_merged.transform(Xval_merged)\n",
    "Xval_standard_merged = pd.DataFrame(df, index=Xval_merged.index, columns=Xval_merged.columns)\n",
    "\n",
    "minmax_scaler_merged = MinMaxScaler().fit(Xtrain_merged)\n",
    "df = minmax_scaler_merged.transform(Xtrain_merged)\n",
    "Xtrain_minmax_merged = pd.DataFrame(df, index=Xtrain_merged.index, columns=Xtrain_merged.columns)\n",
    "df = minmax_scaler_merged.transform(Xval_merged)\n",
    "Xval_minmax_merged = pd.DataFrame(df, index=Xval_merged.index, columns=Xval_merged.columns)"
   ],
   "metadata": {
    "collapsed": false
   }
  },
  {
   "cell_type": "code",
   "execution_count": 132,
   "outputs": [
    {
     "name": "stdout",
     "output_type": "stream",
     "text": [
      "We found the best params {'max_depth': 21, 'max_samples': 0.9, 'n_estimators': 75, 'random_state': 42} with validation RMSE 1.8493 for Random Forest Regressor with standard scaler merged columns.\n"
     ]
    }
   ],
   "source": [
    "best_params_random_forest_standard_merged = find_best_hyperparameters(CustomRandomForest, param_grid_random_forest, Xtrain_standard_merged,\n",
    "                                                                      ytrain, Xval_standard_merged, yval, \"Random Forest Regressor with \"\n",
    "                                                                                                          \"standard scaler merged columns\")"
   ],
   "metadata": {
    "collapsed": false
   }
  },
  {
   "cell_type": "code",
   "execution_count": 133,
   "outputs": [
    {
     "name": "stdout",
     "output_type": "stream",
     "text": [
      "RMSE 1.8492573332067186\n",
      "MAE: 1.137672370463181\n"
     ]
    }
   ],
   "source": [
    "best_random_forest_standard_merged_model = CustomRandomForest(**best_params_random_forest_standard_merged)\n",
    "best_random_forest_standard_merged_model.fit(Xtrain_standard_merged, ytrain)\n",
    "RMSE = metrics.mean_squared_error(yval, best_random_forest_standard_merged_model.predict(Xval_standard_merged), squared=False)\n",
    "MAE = metrics.mean_absolute_error(yval, best_random_forest_standard_merged_model.predict(Xval_standard_merged))\n",
    "print(\"RMSE\", RMSE)\n",
    "print(\"MAE:\", MAE)"
   ],
   "metadata": {
    "collapsed": false
   }
  },
  {
   "cell_type": "markdown",
   "source": [
    "<h4>Random forest for merged columns with minmax scaler</h4>"
   ],
   "metadata": {
    "collapsed": false
   }
  },
  {
   "cell_type": "code",
   "execution_count": 134,
   "outputs": [
    {
     "name": "stdout",
     "output_type": "stream",
     "text": [
      "We found the best params {'max_depth': 23, 'max_samples': 0.9, 'n_estimators': 75, 'random_state': 42} with validation RMSE 1.8422 for Random Forest Regressor with minmax scaler merged columns.\n"
     ]
    }
   ],
   "source": [
    "best_params_random_forest_minmax_merged = find_best_hyperparameters(CustomRandomForest, param_grid_random_forest, Xtrain_minmax_merged,\n",
    "                                                                      ytrain, Xval_minmax_merged, yval, \"Random Forest Regressor with \"\n",
    "                                                                                                        \"minmax scaler merged columns\")"
   ],
   "metadata": {
    "collapsed": false
   }
  },
  {
   "cell_type": "code",
   "execution_count": 135,
   "outputs": [
    {
     "name": "stdout",
     "output_type": "stream",
     "text": [
      "RMSE 1.8422201157949427\n",
      "MAE: 1.1399678349895797\n"
     ]
    }
   ],
   "source": [
    "best_random_forest_minmax_merged_model = CustomRandomForest(**best_params_random_forest_minmax_merged)\n",
    "best_random_forest_minmax_merged_model.fit(Xtrain_minmax_merged, ytrain)\n",
    "RMSE = metrics.mean_squared_error(yval, best_random_forest_minmax_merged_model.predict(Xval_minmax_merged), squared=False)\n",
    "MAE = metrics.mean_absolute_error(yval, best_random_forest_minmax_merged_model.predict(Xval_minmax_merged))\n",
    "print(\"RMSE\", RMSE)\n",
    "print(\"MAE:\", MAE)"
   ],
   "metadata": {
    "collapsed": false
   }
  },
  {
   "cell_type": "markdown",
   "source": [
    "Random forest ended up performing very similarly with merging columns and with keeping all columns present. This is also not that surprising, forest is versitile enough to deal with correlated values. Using normalization and not using it wasn't very significant again."
   ],
   "metadata": {
    "collapsed": false
   }
  },
  {
   "cell_type": "markdown",
   "source": [
    "<h3>Ridge regression for merged columns</h3>"
   ],
   "metadata": {
    "collapsed": false
   }
  },
  {
   "cell_type": "markdown",
   "source": [
    "<h4>Ridge regression for merged columns without normalization</h4>"
   ],
   "metadata": {
    "collapsed": false
   }
  },
  {
   "cell_type": "code",
   "execution_count": 136,
   "outputs": [
    {
     "name": "stdout",
     "output_type": "stream",
     "text": [
      "Optimal alpha for Ridge regression without normalization: 1.210312010888503, with RMSE: 4.067261796166872\n"
     ]
    },
    {
     "name": "stderr",
     "output_type": "stream",
     "text": [
      "/Library/Python/3.9/site-packages/sklearn/linear_model/_ridge.py:212: LinAlgWarning: Ill-conditioned matrix (rcond=7.64064e-17): result may not be accurate.\n",
      "  return linalg.solve(A, Xy, assume_a=\"pos\", overwrite_a=True).T\n",
      "/Library/Python/3.9/site-packages/sklearn/linear_model/_ridge.py:212: LinAlgWarning: Ill-conditioned matrix (rcond=5.04985e-17): result may not be accurate.\n",
      "  return linalg.solve(A, Xy, assume_a=\"pos\", overwrite_a=True).T\n",
      "/Library/Python/3.9/site-packages/sklearn/linear_model/_ridge.py:212: LinAlgWarning: Ill-conditioned matrix (rcond=3.45356e-17): result may not be accurate.\n",
      "  return linalg.solve(A, Xy, assume_a=\"pos\", overwrite_a=True).T\n",
      "/Library/Python/3.9/site-packages/sklearn/linear_model/_ridge.py:212: LinAlgWarning: Ill-conditioned matrix (rcond=2.47006e-17): result may not be accurate.\n",
      "  return linalg.solve(A, Xy, assume_a=\"pos\", overwrite_a=True).T\n",
      "/Library/Python/3.9/site-packages/sklearn/linear_model/_ridge.py:212: LinAlgWarning: Ill-conditioned matrix (rcond=1.86392e-17): result may not be accurate.\n",
      "  return linalg.solve(A, Xy, assume_a=\"pos\", overwrite_a=True).T\n",
      "/Library/Python/3.9/site-packages/sklearn/linear_model/_ridge.py:212: LinAlgWarning: Ill-conditioned matrix (rcond=1.49016e-17): result may not be accurate.\n",
      "  return linalg.solve(A, Xy, assume_a=\"pos\", overwrite_a=True).T\n",
      "/Library/Python/3.9/site-packages/sklearn/linear_model/_ridge.py:212: LinAlgWarning: Ill-conditioned matrix (rcond=1.25954e-17): result may not be accurate.\n",
      "  return linalg.solve(A, Xy, assume_a=\"pos\", overwrite_a=True).T\n",
      "/Library/Python/3.9/site-packages/sklearn/linear_model/_ridge.py:212: LinAlgWarning: Ill-conditioned matrix (rcond=1.11718e-17): result may not be accurate.\n",
      "  return linalg.solve(A, Xy, assume_a=\"pos\", overwrite_a=True).T\n",
      "/Library/Python/3.9/site-packages/sklearn/linear_model/_ridge.py:212: LinAlgWarning: Ill-conditioned matrix (rcond=1.02927e-17): result may not be accurate.\n",
      "  return linalg.solve(A, Xy, assume_a=\"pos\", overwrite_a=True).T\n",
      "/Library/Python/3.9/site-packages/sklearn/linear_model/_ridge.py:212: LinAlgWarning: Ill-conditioned matrix (rcond=9.74962e-18): result may not be accurate.\n",
      "  return linalg.solve(A, Xy, assume_a=\"pos\", overwrite_a=True).T\n",
      "/Library/Python/3.9/site-packages/sklearn/linear_model/_ridge.py:212: LinAlgWarning: Ill-conditioned matrix (rcond=9.07635e-18): result may not be accurate.\n",
      "  return linalg.solve(A, Xy, assume_a=\"pos\", overwrite_a=True).T\n",
      "/Library/Python/3.9/site-packages/sklearn/linear_model/_ridge.py:212: LinAlgWarning: Ill-conditioned matrix (rcond=9.33348e-18): result may not be accurate.\n",
      "  return linalg.solve(A, Xy, assume_a=\"pos\", overwrite_a=True).T\n",
      "/Library/Python/3.9/site-packages/sklearn/linear_model/_ridge.py:212: LinAlgWarning: Ill-conditioned matrix (rcond=9.412e-18): result may not be accurate.\n",
      "  return linalg.solve(A, Xy, assume_a=\"pos\", overwrite_a=True).T\n",
      "/Library/Python/3.9/site-packages/sklearn/linear_model/_ridge.py:212: LinAlgWarning: Ill-conditioned matrix (rcond=9.39839e-18): result may not be accurate.\n",
      "  return linalg.solve(A, Xy, assume_a=\"pos\", overwrite_a=True).T\n",
      "/Library/Python/3.9/site-packages/sklearn/linear_model/_ridge.py:212: LinAlgWarning: Ill-conditioned matrix (rcond=9.40021e-18): result may not be accurate.\n",
      "  return linalg.solve(A, Xy, assume_a=\"pos\", overwrite_a=True).T\n",
      "/Library/Python/3.9/site-packages/sklearn/linear_model/_ridge.py:212: LinAlgWarning: Ill-conditioned matrix (rcond=9.40014e-18): result may not be accurate.\n",
      "  return linalg.solve(A, Xy, assume_a=\"pos\", overwrite_a=True).T\n",
      "/Library/Python/3.9/site-packages/sklearn/linear_model/_ridge.py:212: LinAlgWarning: Ill-conditioned matrix (rcond=9.40014e-18): result may not be accurate.\n",
      "  return linalg.solve(A, Xy, assume_a=\"pos\", overwrite_a=True).T\n",
      "/Library/Python/3.9/site-packages/sklearn/linear_model/_ridge.py:212: LinAlgWarning: Ill-conditioned matrix (rcond=9.40014e-18): result may not be accurate.\n",
      "  return linalg.solve(A, Xy, assume_a=\"pos\", overwrite_a=True).T\n",
      "/Library/Python/3.9/site-packages/sklearn/linear_model/_ridge.py:212: LinAlgWarning: Ill-conditioned matrix (rcond=9.40014e-18): result may not be accurate.\n",
      "  return linalg.solve(A, Xy, assume_a=\"pos\", overwrite_a=True).T\n"
     ]
    }
   ],
   "source": [
    "best_ridge_model_merged, best_alpha = get_best_ridge_model(Xtrain_merged, ytrain, Xval_merged, yval)\n",
    "\n",
    "RMSE = metrics.mean_squared_error(yval, best_ridge_model_merged.predict(Xval_merged), squared=False)\n",
    "print(f'Optimal alpha for Ridge regression without normalization: {best_alpha}, with RMSE: {RMSE}')"
   ],
   "metadata": {
    "collapsed": false
   }
  },
  {
   "cell_type": "markdown",
   "source": [
    "we're seeing warnings, just like before."
   ],
   "metadata": {
    "collapsed": false
   }
  },
  {
   "cell_type": "code",
   "execution_count": 137,
   "outputs": [
    {
     "name": "stdout",
     "output_type": "stream",
     "text": [
      "RMSE 4.067261796166872\n",
      "MAE: 3.022122766607414\n"
     ]
    }
   ],
   "source": [
    "RMSE = metrics.mean_squared_error(yval, best_ridge_model_merged.predict(Xval_merged), squared=False)\n",
    "MAE = metrics.mean_absolute_error(yval, best_ridge_model_merged.predict(Xval_merged))\n",
    "print(\"RMSE\", RMSE)\n",
    "print(\"MAE:\", MAE)"
   ],
   "metadata": {
    "collapsed": false
   }
  },
  {
   "cell_type": "markdown",
   "source": [
    "<h4>Ridge regression for merged columns with standard scaler</h4>"
   ],
   "metadata": {
    "collapsed": false
   }
  },
  {
   "cell_type": "code",
   "execution_count": 138,
   "outputs": [
    {
     "name": "stdout",
     "output_type": "stream",
     "text": [
      "Optimal alpha for Ridge regression with standard scaler: 0.0002149961999422286, with RMSE: 4.067554808568012\n"
     ]
    }
   ],
   "source": [
    "best_ridge_model_standard_merged, best_alpha = get_best_ridge_model(Xtrain_standard_merged, ytrain, Xval_standard_merged, yval)\n",
    "\n",
    "RMSE = metrics.mean_squared_error(yval, best_ridge_model_standard_merged.predict(Xval_standard_merged), squared=False)\n",
    "print(f'Optimal alpha for Ridge regression with standard scaler: {best_alpha}, with RMSE: {RMSE}')\n"
   ],
   "metadata": {
    "collapsed": false
   }
  },
  {
   "cell_type": "code",
   "execution_count": 139,
   "outputs": [
    {
     "name": "stdout",
     "output_type": "stream",
     "text": [
      "RMSE 4.067554808568012\n",
      "MAE: 3.0211676794310613\n"
     ]
    }
   ],
   "source": [
    "RMSE = metrics.mean_squared_error(yval, best_ridge_model_standard_merged.predict(Xval_standard_merged), squared=False)\n",
    "MAE = metrics.mean_absolute_error(yval, best_ridge_model_standard_merged.predict(Xval_standard_merged))\n",
    "print(\"RMSE\", RMSE)\n",
    "print(\"MAE:\", MAE)"
   ],
   "metadata": {
    "collapsed": false
   }
  },
  {
   "cell_type": "markdown",
   "source": [
    "<h4>Ridge regression for merged columns with minmax scaler</h4>"
   ],
   "metadata": {
    "collapsed": false
   }
  },
  {
   "cell_type": "code",
   "execution_count": 140,
   "outputs": [
    {
     "name": "stdout",
     "output_type": "stream",
     "text": [
      "Optimal alpha for Ridge regression with minmax scaler: 0.0002149961999422286, with RMSE: 4.067825290455416\n"
     ]
    }
   ],
   "source": [
    "best_ridge_model_minmax_merged, best_alpha = get_best_ridge_model(Xtrain_minmax_merged, ytrain, Xval_minmax_merged, yval)\n",
    "\n",
    "RMSE = metrics.mean_squared_error(yval, best_ridge_model_minmax_merged.predict(Xval_minmax_merged), squared=False)\n",
    "print(f'Optimal alpha for Ridge regression with minmax scaler: {best_alpha}, with RMSE: {RMSE}')\n"
   ],
   "metadata": {
    "collapsed": false
   }
  },
  {
   "cell_type": "code",
   "execution_count": 141,
   "outputs": [
    {
     "name": "stdout",
     "output_type": "stream",
     "text": [
      "RMSE 4.067825290455416\n",
      "MAE: 3.0206122586768402\n"
     ]
    }
   ],
   "source": [
    "RMSE = metrics.mean_squared_error(yval, best_ridge_model_minmax_merged.predict(Xval_minmax_merged), squared=False)\n",
    "MAE = metrics.mean_absolute_error(yval, best_ridge_model_minmax_merged.predict(Xval_minmax_merged))\n",
    "print(\"RMSE\", RMSE)\n",
    "print(\"MAE:\", MAE)"
   ],
   "metadata": {
    "collapsed": false
   }
  },
  {
   "cell_type": "markdown",
   "source": [
    "Looks like Ridge regression performs similarly when columns are merged and not merged. Ridge regression is able to handle the correlativity of columns well. Normalization doesn't change the errors much as well."
   ],
   "metadata": {
    "collapsed": false
   }
  },
  {
   "cell_type": "markdown",
   "source": [
    "<h3>KNN for merged columns</h3>"
   ],
   "metadata": {
    "collapsed": false
   }
  },
  {
   "cell_type": "markdown",
   "source": [
    "<h4>KNN for merged columns without normalization</h4>"
   ],
   "metadata": {
    "collapsed": false
   }
  },
  {
   "cell_type": "code",
   "execution_count": 142,
   "outputs": [
    {
     "name": "stdout",
     "output_type": "stream",
     "text": [
      "We found the best params {'n_neighbors': 31, 'p': 1, 'weights': 'distance'} with validation RMSE 9.0787 for KNN merged columns.\n"
     ]
    }
   ],
   "source": [
    "best_params_knn_merged = find_best_hyperparameters(KNeighborsRegressor, param_grid_knn, Xtrain_merged, ytrain,\n",
    "                                                   Xval_merged, yval, \"KNN merged columns\")"
   ],
   "metadata": {
    "collapsed": false
   }
  },
  {
   "cell_type": "code",
   "execution_count": 143,
   "outputs": [
    {
     "name": "stdout",
     "output_type": "stream",
     "text": [
      "RMSE 9.078651105954696\n",
      "MAE: 7.3206919368928425\n"
     ]
    }
   ],
   "source": [
    "best_knn_merged_model = KNeighborsRegressor(**best_params_knn_merged)\n",
    "best_knn_merged_model.fit(Xtrain_merged, ytrain)\n",
    "RMSE = metrics.mean_squared_error(yval, best_knn_merged_model.predict(Xval_merged), squared=False)\n",
    "MAE = metrics.mean_absolute_error(yval, best_knn_merged_model.predict(Xval_merged))\n",
    "print(\"RMSE\", RMSE)\n",
    "print(\"MAE:\", MAE)"
   ],
   "metadata": {
    "collapsed": false
   }
  },
  {
   "cell_type": "markdown",
   "source": [
    "<h4>KNN for merged columns with standard scaler</h4>"
   ],
   "metadata": {
    "collapsed": false
   }
  },
  {
   "cell_type": "code",
   "execution_count": 144,
   "outputs": [
    {
     "name": "stdout",
     "output_type": "stream",
     "text": [
      "We found the best params {'n_neighbors': 4, 'p': 1, 'weights': 'distance'} with validation RMSE 2.2193 for KNN standard scaler merged columns.\n"
     ]
    }
   ],
   "source": [
    "best_params_knn_standard_merged = find_best_hyperparameters(KNeighborsRegressor, param_grid_knn, Xtrain_standard_merged, ytrain,\n",
    "                                                            Xval_standard_merged, yval, \"KNN standard scaler merged columns\")\n"
   ],
   "metadata": {
    "collapsed": false
   }
  },
  {
   "cell_type": "code",
   "execution_count": 145,
   "outputs": [
    {
     "name": "stdout",
     "output_type": "stream",
     "text": [
      "RMSE 2.2192576276395206\n",
      "MAE: 1.4196250476104038\n"
     ]
    }
   ],
   "source": [
    "best_knn_standard_merged_model = KNeighborsRegressor(**best_params_knn_standard_merged)\n",
    "best_knn_standard_merged_model.fit(Xtrain_standard_merged, ytrain)\n",
    "RMSE = metrics.mean_squared_error(yval, best_knn_standard_merged_model.predict(Xval_standard_merged), squared=False)\n",
    "MAE = metrics.mean_absolute_error(yval, best_knn_standard_merged_model.predict(Xval_standard_merged))\n",
    "print(\"RMSE\", RMSE)\n",
    "print(\"MAE:\", MAE)"
   ],
   "metadata": {
    "collapsed": false
   }
  },
  {
   "cell_type": "markdown",
   "source": [
    "<h4>KNN for merged columns with minmax scaler</h4>"
   ],
   "metadata": {
    "collapsed": false
   }
  },
  {
   "cell_type": "code",
   "execution_count": 146,
   "outputs": [
    {
     "name": "stdout",
     "output_type": "stream",
     "text": [
      "We found the best params {'n_neighbors': 4, 'p': 1, 'weights': 'distance'} with validation RMSE 2.4387 for KNN minmax scaler merged columns.\n"
     ]
    }
   ],
   "source": [
    "best_params_knn_minmax_merged = find_best_hyperparameters(KNeighborsRegressor, param_grid_knn, Xtrain_minmax_merged, ytrain,\n",
    "                                                          Xval_minmax_merged, yval, \"KNN minmax scaler merged columns\")\n"
   ],
   "metadata": {
    "collapsed": false
   }
  },
  {
   "cell_type": "code",
   "execution_count": 147,
   "outputs": [
    {
     "name": "stdout",
     "output_type": "stream",
     "text": [
      "RMSE 2.438678841589595\n",
      "MAE: 1.5848519351663588\n"
     ]
    }
   ],
   "source": [
    "best_knn_minmax_merged_model = KNeighborsRegressor(**best_params_knn_minmax_merged)\n",
    "best_knn_minmax_merged_model.fit(Xtrain_minmax_merged, ytrain)\n",
    "RMSE = metrics.mean_squared_error(yval, best_knn_minmax_merged_model.predict(Xval_minmax_merged), squared=False)\n",
    "MAE = metrics.mean_absolute_error(yval, best_knn_minmax_merged_model.predict(Xval_minmax_merged))\n",
    "print(\"RMSE\", RMSE)\n",
    "print(\"MAE:\", MAE)"
   ],
   "metadata": {
    "collapsed": false
   }
  },
  {
   "cell_type": "markdown",
   "source": [
    "Only KNN performed better with merged columns. It's not surprising, since there are fewer dimensions to predict now. Normalization helped a lot here as well."
   ],
   "metadata": {
    "collapsed": false
   }
  },
  {
   "cell_type": "markdown",
   "source": [
    "<h1> Evaluation of results </h1>"
   ],
   "metadata": {
    "collapsed": false
   }
  },
  {
   "cell_type": "markdown",
   "source": [
    "Random forest algorithm clearly beat other algorithms with both RMSE and MAE. It shows just how powerful this algorithm is,\n",
    "and that the relationships between columns are complex.\n",
    "\n",
    "The differences between normalization and not normalizing, merging correlated columns, and not merging them ended up showing very little difference for forest, which implies that random forest is versatile enough to handle these data changes. The best model with the lowest RMSE and MAE ended up being random forest without normalization and will all columns present, with RMSE of 1.8278 and MAE of 1.1129.\n",
    "\n",
    "MAE of 1.1129 means that we're 1.1129 years off when predicting on average, which is a very good performance. RMSE on the other hand penalizes larger errors, that's why RMSE is always higher than MAE."
   ],
   "metadata": {
    "collapsed": false
   }
  },
  {
   "cell_type": "markdown",
   "source": [
    "Now we'll try to predict the errors on the data that we haven't seen before."
   ],
   "metadata": {
    "collapsed": false
   }
  },
  {
   "cell_type": "code",
   "execution_count": 151,
   "outputs": [
    {
     "name": "stdout",
     "output_type": "stream",
     "text": [
      "RMSE: 2.1503467641443823\n",
      "MAE: 1.2682985425768243\n"
     ]
    }
   ],
   "source": [
    "Xtest_filled = fill_missing_values(Xtest)\n",
    "\n",
    "# best_random_forest_merged_model\n",
    "model_RMSE = metrics.mean_squared_error(ytest, best_random_forest_model.predict(Xtest_filled), squared=False)\n",
    "model_MAE = metrics.mean_absolute_error(ytest, best_random_forest_model.predict(Xtest_filled))\n",
    "print(\"RMSE:\", model_RMSE)\n",
    "print(\"MAE:\", model_MAE)"
   ],
   "metadata": {
    "collapsed": false
   }
  },
  {
   "cell_type": "markdown",
   "source": [
    "We can expect on average to be off on our prediction by 1.27 years (MAE). When we're giving higher weight to larger errors (calculating\n",
    "with squares), we get the RMSE of 2.15"
   ],
   "metadata": {
    "collapsed": false
   }
  },
  {
   "cell_type": "markdown",
   "source": [
    "<h1>Filling evaluation data </h1>"
   ],
   "metadata": {
    "collapsed": false
   }
  },
  {
   "cell_type": "code",
   "execution_count": 152,
   "outputs": [],
   "source": [
    "df_evaluation = load_prepare_data(\"evaluation.csv\")\n",
    "\n",
    "df_evaluation_filled = fill_missing_values(df_evaluation)\n",
    "\n",
    "df_evaluation_filled[\"Life expectancy\"] = best_random_forest_model.predict(df_evaluation_filled)\n",
    "\n",
    "df_evaluation_merged_new = df_evaluation_filled.reset_index()\n",
    "final_output = df_evaluation_merged_new[[\"Country\", \"Year\", \"Life expectancy\"]]\n",
    "\n",
    "final_output.to_csv(\"results.csv\", index=False)"
   ],
   "metadata": {
    "collapsed": false
   }
  }
 ],
 "metadata": {
  "kernelspec": {
   "display_name": "Python 3 (ipykernel)",
   "language": "python",
   "name": "python3"
  },
  "language_info": {
   "codemirror_mode": {
    "name": "ipython",
    "version": 3
   },
   "file_extension": ".py",
   "mimetype": "text/x-python",
   "name": "python",
   "nbconvert_exporter": "python",
   "pygments_lexer": "ipython3",
   "version": "3.11.6"
  }
 },
 "nbformat": 4,
 "nbformat_minor": 5
}
