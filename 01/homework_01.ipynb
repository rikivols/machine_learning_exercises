{
 "cells": [
  {
   "cell_type": "markdown",
   "id": "39a4a2e3-9454-41b3-9765-c3575e7ddf22",
   "metadata": {},
   "source": [
    "# Úkol č. 1 - předzpracování dat a binární klasifikace\n",
    "\n",
    "* Termíny jsou uvedeny na [courses.fit.cvut.cz](https://courses.fit.cvut.cz/BI-ML1/homeworks/index.html).\n",
    "* Pokud odevzdáte úkol po prvním termínu ale před nejzašším termínem, budete penalizování -12 body, pozdější odevzdání je bez bodu.\n",
    "* V rámci tohoto úkolu se musíte vypořádat s klasifikační úlohou s příznaky různých typů.\n",
    "* Před tím, než na nich postavíte predikční model, je třeba je nějakým způsobem převést do číselné reprezentace.\n",
    "    \n",
    "> **Úkoly jsou zadány tak, aby Vám daly prostor pro invenci. Vymyslet _jak přesně_ budete úkol řešit, je důležitou součástí zadání a originalita či nápaditost bude také hodnocena!**\n",
    "\n",
    "Využívejte buňky typu `Markdown` k vysvětlování Vašeho postupu. Za nepřehlednost budeme strhávat body.\n",
    "\n",
    "## Zdroj dat\n",
    "\n",
    "Budeme se zabývat predikcí přežití pasažérů Titaniku.\n",
    "K dispozici máte trénovací data v souboru `data.csv` a data na vyhodnocení v souboru `evaluation.csv`.\n",
    "\n",
    "#### Seznam příznaků:\n",
    "* survived - zda pasažér přežil, 0 = Ne, 1 = Ano, **vysvětlovaná proměnná**, kterou chcete predikovat\n",
    "* pclass - Třída lodního lístku, 1 = první, 2 = druhá, 3 = třetí\n",
    "* name - jméno\n",
    "* sex - pohlaví\n",
    "* age - věk v letech\n",
    "* sibsp\t- počet sourozenců / manželů, manželek na palubě\n",
    "* parch - počet rodičů / dětí na palubě\n",
    "* ticket - číslo lodního lístku\n",
    "* fare - cena lodního lístku\n",
    "* cabin\t- číslo kajuty\n",
    "* embarked\t- místo nalodění, C = Cherbourg, Q = Queenstown, S = Southampton\n",
    "* home.dest - Bydliště/Cíl\n",
    "\n",
    "## Pokyny k vypracování\n",
    "\n",
    "**Body zadání**, za jejichž (poctivé) vypracování získáte **25 bodů**: \n",
    "  * V notebooku načtěte data ze souboru `data.csv`. Vhodným způsobem si je rozdělte na podmnožiny, které Vám poslouží pro trénování (trénovací), porovnávání modelů (validační) a následnou predikci výkonnosti finálního modelu (testovací).\n",
    "    \n",
    "  * Proveďte základní předzpracování dat:\n",
    "    * Projděte si jednotlivé příznaky a transformujte je do vhodné podoby pro použití ve vybraném klasifikačním modelu.\n",
    "    * Podle potřeby si můžete vytvářet nové příznaky (na základě existujících), například tedy můžete vytvořit příznak měřící délku jména atp.\n",
    "    * Některé příznaky můžete také úplně zahodit.\n",
    "    * Nějakým způsobem se vypořádejte s chybějícími hodnotami. _Pozor na metodické chyby!_\n",
    "    * Můžete využívat i vizualizace a vše stručně ale náležitě komentujte.\n",
    "\n",
    "  \n",
    "  * Na připravená data postupně aplikujte **rozhodovací strom** a **metodu nejbližších sousedů**, přičemž pro každý z těchto modelů:\n",
    "    * Okomentujte vhodnost daného modelu pro daný typ úlohy.\n",
    "    * Vyberte si hlavní hyperparametry k ladění a najděte jejich nejlepší hodnoty.\n",
    "    * Pro model s nejlepšími hodnotami hyperparametrů spočtěte F1 skóre, nakreslete ROC křivku a určete AUC. _Pozor na metodické chyby!_\n",
    "    * Získané výsledky vždy řádně okomentujte.\n",
    "\n",
    "        \n",
    "  * Ze všech zkoušených možností v předchozím kroku vyberte finální model a odhadněte, jakou přesnost můžete očekávat na nových datech, která jste doposud neměli k dispozici. _Pozor na metodické chyby!_\n",
    "    \n",
    "  * Nakonec načtěte vyhodnocovací data ze souboru`evaluation.csv`. Pomocí finálního modelu napočítejte predikce pro tyto data (vysvětlovaná proměnná v nich již není). Vytvořte soubor `results.csv`, ve kterém získané predikce uložíte do dvou sloupců: **ID**, **survived**. Tento soubor též odevzdejte (uložte do repozitáře vedle notebooku).\n",
    "\n",
    "  * Ukázka prvních řádků souboru `results.csv`:\n",
    "  \n",
    "```\n",
    "ID,survived\n",
    "1000,0\n",
    "1001,1\n",
    "...\n",
    "```\n",
    "\n",
    "## Poznámky k odevzdání\n",
    "\n",
    "  * Řiďte se pokyny ze stránky https://courses.fit.cvut.cz/BI-ML1/homeworks/index.html."
   ]
  },
  {
   "cell_type": "code",
   "execution_count": 108,
   "id": "003f7995-4bc0-42d8-a9ac-456638cdd708",
   "metadata": {},
   "outputs": [],
   "source": [
    "import math\n",
    "import pandas as pd\n",
    "import numpy as np\n",
    "import re\n",
    "from typing import Union\n",
    "from sklearn.preprocessing import MinMaxScaler\n",
    "\n",
    "import matplotlib.pyplot as plt\n",
    "%matplotlib inline"
   ]
  },
  {
   "cell_type": "code",
   "execution_count": 109,
   "outputs": [
    {
     "name": "stdout",
     "output_type": "stream",
     "text": [
      "<class 'pandas.core.frame.DataFrame'>\n",
      "RangeIndex: 1000 entries, 0 to 999\n",
      "Data columns (total 13 columns):\n",
      " #   Column     Non-Null Count  Dtype  \n",
      "---  ------     --------------  -----  \n",
      " 0   ID         1000 non-null   int64  \n",
      " 1   survived   1000 non-null   int64  \n",
      " 2   pclass     1000 non-null   int64  \n",
      " 3   name       1000 non-null   object \n",
      " 4   sex        1000 non-null   object \n",
      " 5   age        802 non-null    float64\n",
      " 6   sibsp      1000 non-null   int64  \n",
      " 7   parch      1000 non-null   int64  \n",
      " 8   ticket     1000 non-null   object \n",
      " 9   fare       999 non-null    float64\n",
      " 10  cabin      233 non-null    object \n",
      " 11  embarked   998 non-null    object \n",
      " 12  home.dest  566 non-null    object \n",
      "dtypes: float64(2), int64(5), object(6)\n",
      "memory usage: 101.7+ KB\n"
     ]
    }
   ],
   "source": [
    "df = pd.read_csv('data.csv')\n",
    "df.info()"
   ],
   "metadata": {
    "collapsed": false
   }
  },
  {
   "cell_type": "markdown",
   "source": [
    "Process columns\n",
    "\n",
    "* pclass - ordinal value, all non null, no change needed\n",
    "* name - it doesn't seem useful to predict which name will survive and which not, we'll drop this value. However, a name also contains a title of that person, which\n",
    "can tell us about many things, like a marital status, education, age, ethnicity... Some titles are in a different language, which have equivalent meaning in English,\n",
    "so I've translated them\n",
    "* sex - nominal value, no change needed\n",
    "* age - missing values, useful metrics, we'll predict missing values\n",
    "* sibsp - no change needed\n",
    "* parch - no change needed\n",
    "* ticket - they're usually unique numbers, we wouldn't get much value out of it. However, there seems to be 2 types of tickets, one is that starts with a number and second one starts with a letter. There may be some value hidden there, we'll split ticket into ones that start with a number and ones that start with a letter.\n",
    "* fare - one value is missing. I've also seen instances when fare was 0. I won't be changing this value and assuming that it was for free. There are no negative numbers, but if they were, I'm assuming that a passenger got paid.\n",
    "* cabin - a lot of values are missing, but first letter may be useful, as it's probably referencing a place where they stayed in the ship, extract first letter, if cabin matches '\\a\\d+' regex\n",
    "* embarked - ordinal value, some is missing\n",
    "* home.dest - a lot of values are missing. We have both place where they live and a destination here, so we'll need to split the data into 2. The places seem to be separated by ',', so I'll be respecting that. However sometimes there are 3 or even 4 places separated by ','. The first item will always be home and the last destination, I'll ignore else. Also I'll ignore values without ',', since we don't know if it's home or destination"
   ],
   "metadata": {
    "collapsed": false
   }
  },
  {
   "cell_type": "code",
   "execution_count": 110,
   "outputs": [
    {
     "name": "stdout",
     "output_type": "stream",
     "text": [
      "<class 'pandas.core.frame.DataFrame'>\n",
      "Int64Index: 1000 entries, 0 to 999\n",
      "Data columns (total 11 columns):\n",
      " #   Column                     Non-Null Count  Dtype  \n",
      "---  ------                     --------------  -----  \n",
      " 0   survived                   1000 non-null   int64  \n",
      " 1   pclass                     1000 non-null   int64  \n",
      " 2   sex                        1000 non-null   object \n",
      " 3   age                        802 non-null    float64\n",
      " 4   sibsp                      1000 non-null   int64  \n",
      " 5   parch                      1000 non-null   int64  \n",
      " 6   fare                       999 non-null    float64\n",
      " 7   embarked                   998 non-null    object \n",
      " 8   title                      1000 non-null   object \n",
      " 9   is_in_cabin                1000 non-null   object \n",
      " 10  ticket_starts_with_letter  1000 non-null   object \n",
      "dtypes: float64(2), int64(4), object(5)\n",
      "memory usage: 93.8+ KB\n"
     ]
    }
   ],
   "source": [
    "df = pd.read_csv('data.csv')\n",
    "\n",
    "df.set_index(\"ID\", inplace=True)\n",
    "\n",
    "translate_title = {\n",
    "    \"Mlle.\": \"Miss.\",\n",
    "    \"Dona.\": \"Mrs.\",\n",
    "    \"Mme.\": \"Mrs.\"\n",
    "}\n",
    "\n",
    "def get_title(name: str):\n",
    "    titles = re.findall(r\"[A-Z]\\S+\\.\", name)\n",
    "    if titles:\n",
    "        title = titles[0]\n",
    "        if title in translate_title:\n",
    "            title = translate_title[title]\n",
    "        return title\n",
    "    return np.nan\n",
    "\n",
    "df[\"title\"] = df[\"name\"].apply(get_title)\n",
    "df = df.drop(\"name\", axis=1)\n",
    "\n",
    "# df[\"cabin_letter\"] = df[\"cabin\"].apply(lambda x: x[0].upper() if re.fullmatch(r\"[ABCDEFGHI]\\d+\", str(x)) else np.nan)\n",
    "df[\"is_in_cabin\"] = df[\"cabin\"].apply(lambda x: \"In cabin\" if type(x) == str else \"Not in cabin\")\n",
    "df = df.drop(\"cabin\", axis=1)\n",
    "\n",
    "def categorize_ticket(ticket: Union[str, float]):\n",
    "    if ticket == np.nan:  # protection in case future data have null\n",
    "        return np.nan\n",
    "    ticket = ticket.strip()\n",
    "    if ticket[0].isdigit():\n",
    "        return \"Doesn't start with a letter\"\n",
    "    return \"Starts with a letter\"\n",
    "\n",
    "df[\"ticket_starts_with_letter\"] = df[\"ticket\"].apply(categorize_ticket)\n",
    "df = df.drop(\"ticket\", axis=1)\n",
    "\n",
    "def categorize_home_dest(home_dest: Union[str, float], is_home: bool):\n",
    "    if type(home_dest) != str or len(home_dest.split(\",\")) <= 1:\n",
    "        return np.nan\n",
    "\n",
    "    if is_home:\n",
    "        return home_dest.split(\",\")[0].replace(\"  \", \" \")\n",
    "    return home_dest.split(\",\")[-1].replace(\"  \", \" \")\n",
    "\n",
    "def aaa(x: str):\n",
    "    if type(x) != str:\n",
    "        return np.nan\n",
    "    return x.split()[-1]\n",
    "\n",
    "df = df.drop(\"home.dest\", axis=1)\n",
    "\n",
    "df.info()\n"
   ],
   "metadata": {
    "collapsed": false
   }
  },
  {
   "cell_type": "markdown",
   "source": [
    "As we can see, we're still missing 198 numerical values of age and 1 numerical value in fare. We can demonstrate different methods for filling\n",
    "these fields with values. We also have 2 missing values in embarked, however since it's a nominal value, it shouldn't be such a problem after\n",
    "one-hot encoding\n",
    "\n",
    "We'll use linear regression for age and mean for fare"
   ],
   "metadata": {
    "collapsed": false
   }
  },
  {
   "cell_type": "markdown",
   "source": [
    "Now convert all columns into data that's in a friendly format for machine learning.\n",
    "\n",
    "1. Our only ordinal value is pclass, and it's already encoded in numbers and ordered, so we don't need to change it\n",
    "2. Convert all nominal values (all objects) with one-hot encoding\n",
    "3. fare is missing 1 value, replace it with mean"
   ],
   "metadata": {
    "collapsed": false
   }
  },
  {
   "cell_type": "code",
   "execution_count": 111,
   "outputs": [],
   "source": [
    "df = pd.get_dummies(df)\n",
    "df['fare'].fillna(df['fare'].mean(), inplace=True)\n"
   ],
   "metadata": {
    "collapsed": false
   }
  },
  {
   "cell_type": "markdown",
   "source": [
    "Predict age"
   ],
   "metadata": {
    "collapsed": false
   }
  },
  {
   "cell_type": "code",
   "execution_count": 112,
   "outputs": [
    {
     "data": {
      "text/plain": "     survived  pclass  age  sibsp  parch     fare  sex_female  sex_male  \\\nID                                                                        \n0           0       3   11      5      2  46.9000           0         1   \n1           0       3   28      0      0   7.0500           0         1   \n2           0       3    4      3      2  27.9000           0         1   \n3           1       3   36      1      0  15.5000           1         0   \n4           1       3   18      0      0   7.2292           1         0   \n..        ...     ...  ...    ...    ...      ...         ...       ...   \n995         0       2   52      0      0  13.0000           0         1   \n996         0       2   29      0      0  10.5000           0         1   \n997         0       1   56      0      0  26.5500           0         1   \n998         1       1   25      1      0  55.4417           0         1   \n999         0       3   31      0      0   8.0500           1         0   \n\n     embarked_C  embarked_Q  ...  title_Miss.  title_Mr.  title_Mrs.  \\\nID                           ...                                       \n0             0           0  ...            0          0           0   \n1             0           0  ...            0          1           0   \n2             0           0  ...            0          0           0   \n3             0           1  ...            0          0           1   \n4             1           0  ...            0          0           1   \n..          ...         ...  ...          ...        ...         ...   \n995           0           0  ...            0          1           0   \n996           0           0  ...            0          1           0   \n997           0           0  ...            0          1           0   \n998           1           0  ...            0          1           0   \n999           0           0  ...            0          0           1   \n\n     title_Ms.  title_Rev.  title_Sir.  is_in_cabin_In cabin  \\\nID                                                             \n0            0           0           0                     0   \n1            0           0           0                     0   \n2            0           0           0                     0   \n3            0           0           0                     0   \n4            0           0           0                     0   \n..         ...         ...         ...                   ...   \n995          0           0           0                     0   \n996          0           0           0                     0   \n997          0           0           0                     0   \n998          0           0           0                     1   \n999          0           0           0                     0   \n\n     is_in_cabin_Not in cabin  \\\nID                              \n0                           1   \n1                           1   \n2                           1   \n3                           1   \n4                           1   \n..                        ...   \n995                         1   \n996                         1   \n997                         1   \n998                         0   \n999                         1   \n\n     ticket_starts_with_letter_Doesn't start with a letter  \\\nID                                                           \n0                                                    0       \n1                                                    0       \n2                                                    1       \n3                                                    1       \n4                                                    1       \n..                                                 ...       \n995                                                  1       \n996                                                  0       \n997                                                  1       \n998                                                  1       \n999                                                  1       \n\n     ticket_starts_with_letter_Starts with a letter  \nID                                                   \n0                                                 1  \n1                                                 1  \n2                                                 0  \n3                                                 0  \n4                                                 0  \n..                                              ...  \n995                                               0  \n996                                               1  \n997                                               0  \n998                                               0  \n999                                               0  \n\n[1000 rows x 27 columns]",
      "text/html": "<div>\n<style scoped>\n    .dataframe tbody tr th:only-of-type {\n        vertical-align: middle;\n    }\n\n    .dataframe tbody tr th {\n        vertical-align: top;\n    }\n\n    .dataframe thead th {\n        text-align: right;\n    }\n</style>\n<table border=\"1\" class=\"dataframe\">\n  <thead>\n    <tr style=\"text-align: right;\">\n      <th></th>\n      <th>survived</th>\n      <th>pclass</th>\n      <th>age</th>\n      <th>sibsp</th>\n      <th>parch</th>\n      <th>fare</th>\n      <th>sex_female</th>\n      <th>sex_male</th>\n      <th>embarked_C</th>\n      <th>embarked_Q</th>\n      <th>...</th>\n      <th>title_Miss.</th>\n      <th>title_Mr.</th>\n      <th>title_Mrs.</th>\n      <th>title_Ms.</th>\n      <th>title_Rev.</th>\n      <th>title_Sir.</th>\n      <th>is_in_cabin_In cabin</th>\n      <th>is_in_cabin_Not in cabin</th>\n      <th>ticket_starts_with_letter_Doesn't start with a letter</th>\n      <th>ticket_starts_with_letter_Starts with a letter</th>\n    </tr>\n    <tr>\n      <th>ID</th>\n      <th></th>\n      <th></th>\n      <th></th>\n      <th></th>\n      <th></th>\n      <th></th>\n      <th></th>\n      <th></th>\n      <th></th>\n      <th></th>\n      <th></th>\n      <th></th>\n      <th></th>\n      <th></th>\n      <th></th>\n      <th></th>\n      <th></th>\n      <th></th>\n      <th></th>\n      <th></th>\n      <th></th>\n    </tr>\n  </thead>\n  <tbody>\n    <tr>\n      <th>0</th>\n      <td>0</td>\n      <td>3</td>\n      <td>11</td>\n      <td>5</td>\n      <td>2</td>\n      <td>46.9000</td>\n      <td>0</td>\n      <td>1</td>\n      <td>0</td>\n      <td>0</td>\n      <td>...</td>\n      <td>0</td>\n      <td>0</td>\n      <td>0</td>\n      <td>0</td>\n      <td>0</td>\n      <td>0</td>\n      <td>0</td>\n      <td>1</td>\n      <td>0</td>\n      <td>1</td>\n    </tr>\n    <tr>\n      <th>1</th>\n      <td>0</td>\n      <td>3</td>\n      <td>28</td>\n      <td>0</td>\n      <td>0</td>\n      <td>7.0500</td>\n      <td>0</td>\n      <td>1</td>\n      <td>0</td>\n      <td>0</td>\n      <td>...</td>\n      <td>0</td>\n      <td>1</td>\n      <td>0</td>\n      <td>0</td>\n      <td>0</td>\n      <td>0</td>\n      <td>0</td>\n      <td>1</td>\n      <td>0</td>\n      <td>1</td>\n    </tr>\n    <tr>\n      <th>2</th>\n      <td>0</td>\n      <td>3</td>\n      <td>4</td>\n      <td>3</td>\n      <td>2</td>\n      <td>27.9000</td>\n      <td>0</td>\n      <td>1</td>\n      <td>0</td>\n      <td>0</td>\n      <td>...</td>\n      <td>0</td>\n      <td>0</td>\n      <td>0</td>\n      <td>0</td>\n      <td>0</td>\n      <td>0</td>\n      <td>0</td>\n      <td>1</td>\n      <td>1</td>\n      <td>0</td>\n    </tr>\n    <tr>\n      <th>3</th>\n      <td>1</td>\n      <td>3</td>\n      <td>36</td>\n      <td>1</td>\n      <td>0</td>\n      <td>15.5000</td>\n      <td>1</td>\n      <td>0</td>\n      <td>0</td>\n      <td>1</td>\n      <td>...</td>\n      <td>0</td>\n      <td>0</td>\n      <td>1</td>\n      <td>0</td>\n      <td>0</td>\n      <td>0</td>\n      <td>0</td>\n      <td>1</td>\n      <td>1</td>\n      <td>0</td>\n    </tr>\n    <tr>\n      <th>4</th>\n      <td>1</td>\n      <td>3</td>\n      <td>18</td>\n      <td>0</td>\n      <td>0</td>\n      <td>7.2292</td>\n      <td>1</td>\n      <td>0</td>\n      <td>1</td>\n      <td>0</td>\n      <td>...</td>\n      <td>0</td>\n      <td>0</td>\n      <td>1</td>\n      <td>0</td>\n      <td>0</td>\n      <td>0</td>\n      <td>0</td>\n      <td>1</td>\n      <td>1</td>\n      <td>0</td>\n    </tr>\n    <tr>\n      <th>...</th>\n      <td>...</td>\n      <td>...</td>\n      <td>...</td>\n      <td>...</td>\n      <td>...</td>\n      <td>...</td>\n      <td>...</td>\n      <td>...</td>\n      <td>...</td>\n      <td>...</td>\n      <td>...</td>\n      <td>...</td>\n      <td>...</td>\n      <td>...</td>\n      <td>...</td>\n      <td>...</td>\n      <td>...</td>\n      <td>...</td>\n      <td>...</td>\n      <td>...</td>\n      <td>...</td>\n    </tr>\n    <tr>\n      <th>995</th>\n      <td>0</td>\n      <td>2</td>\n      <td>52</td>\n      <td>0</td>\n      <td>0</td>\n      <td>13.0000</td>\n      <td>0</td>\n      <td>1</td>\n      <td>0</td>\n      <td>0</td>\n      <td>...</td>\n      <td>0</td>\n      <td>1</td>\n      <td>0</td>\n      <td>0</td>\n      <td>0</td>\n      <td>0</td>\n      <td>0</td>\n      <td>1</td>\n      <td>1</td>\n      <td>0</td>\n    </tr>\n    <tr>\n      <th>996</th>\n      <td>0</td>\n      <td>2</td>\n      <td>29</td>\n      <td>0</td>\n      <td>0</td>\n      <td>10.5000</td>\n      <td>0</td>\n      <td>1</td>\n      <td>0</td>\n      <td>0</td>\n      <td>...</td>\n      <td>0</td>\n      <td>1</td>\n      <td>0</td>\n      <td>0</td>\n      <td>0</td>\n      <td>0</td>\n      <td>0</td>\n      <td>1</td>\n      <td>0</td>\n      <td>1</td>\n    </tr>\n    <tr>\n      <th>997</th>\n      <td>0</td>\n      <td>1</td>\n      <td>56</td>\n      <td>0</td>\n      <td>0</td>\n      <td>26.5500</td>\n      <td>0</td>\n      <td>1</td>\n      <td>0</td>\n      <td>0</td>\n      <td>...</td>\n      <td>0</td>\n      <td>1</td>\n      <td>0</td>\n      <td>0</td>\n      <td>0</td>\n      <td>0</td>\n      <td>0</td>\n      <td>1</td>\n      <td>1</td>\n      <td>0</td>\n    </tr>\n    <tr>\n      <th>998</th>\n      <td>1</td>\n      <td>1</td>\n      <td>25</td>\n      <td>1</td>\n      <td>0</td>\n      <td>55.4417</td>\n      <td>0</td>\n      <td>1</td>\n      <td>1</td>\n      <td>0</td>\n      <td>...</td>\n      <td>0</td>\n      <td>1</td>\n      <td>0</td>\n      <td>0</td>\n      <td>0</td>\n      <td>0</td>\n      <td>1</td>\n      <td>0</td>\n      <td>1</td>\n      <td>0</td>\n    </tr>\n    <tr>\n      <th>999</th>\n      <td>0</td>\n      <td>3</td>\n      <td>31</td>\n      <td>0</td>\n      <td>0</td>\n      <td>8.0500</td>\n      <td>1</td>\n      <td>0</td>\n      <td>0</td>\n      <td>0</td>\n      <td>...</td>\n      <td>0</td>\n      <td>0</td>\n      <td>1</td>\n      <td>0</td>\n      <td>0</td>\n      <td>0</td>\n      <td>0</td>\n      <td>1</td>\n      <td>1</td>\n      <td>0</td>\n    </tr>\n  </tbody>\n</table>\n<p>1000 rows × 27 columns</p>\n</div>"
     },
     "execution_count": 112,
     "metadata": {},
     "output_type": "execute_result"
    }
   ],
   "source": [
    "from sklearn.linear_model import LinearRegression\n",
    "\n",
    "\n",
    "def predict_age(df_final: pd.DataFrame) -> pd.DataFrame:\n",
    "\n",
    "    # we don't want to use survived for predicting age, as it's a data that we want to predict in the end\n",
    "    df_predict_age = df_final.drop(\"survived\", axis=1)\n",
    "\n",
    "    # split the data into ones we'll train on and ones we'll predict\n",
    "    # Using copy() to prevent warnings\n",
    "    df_with_age = df_predict_age[df['age'].notna()].copy()\n",
    "    # since we'll want to work with ages as whole numbers, we'll get rid of the decimal places for training\n",
    "    df_with_age[\"age\"] = df_with_age[\"age\"].astype(int)\n",
    "    df_without_age = df_predict_age[df['age'].isna()].copy()\n",
    "\n",
    "    # split the data into X and Y\n",
    "    Xtrain = df_with_age.drop(\"age\", axis=1)\n",
    "    Ytrain = df_with_age[\"age\"]\n",
    "\n",
    "    # normalize the data\n",
    "    scaler = MinMaxScaler()\n",
    "    Xtrain = scaler.fit_transform(Xtrain)\n",
    "\n",
    "    # teach the model\n",
    "    linear_regression = LinearRegression()\n",
    "    linear_regression.fit(Xtrain, Ytrain)\n",
    "\n",
    "    # predict missing values\n",
    "    Xpredict = df_without_age.drop(\"age\", axis=1)\n",
    "    Xpredict = scaler.fit_transform(Xpredict)\n",
    "    predicted_age = linear_regression.predict(Xpredict)\n",
    "    df_without_age[\"age\"] = predicted_age\n",
    "\n",
    "    df_to_attach = pd.concat([df_with_age, df_without_age], axis=0).sort_index()\n",
    "    df_final[\"age\"] = df_to_attach[\"age\"]\n",
    "\n",
    "    # get rid of floats, round the age\n",
    "    df_final[\"age\"] = df_final[\"age\"].apply(lambda x: int(round(x)))\n",
    "\n",
    "    return df_final\n",
    "\n",
    "\n",
    "df = predict_age(df)\n",
    "df\n"
   ],
   "metadata": {
    "collapsed": false
   }
  },
  {
   "cell_type": "code",
   "execution_count": 112,
   "outputs": [],
   "source": [],
   "metadata": {
    "collapsed": false
   }
  }
 ],
 "metadata": {
  "kernelspec": {
   "display_name": "Python 3 (ipykernel)",
   "language": "python",
   "name": "python3"
  },
  "language_info": {
   "codemirror_mode": {
    "name": "ipython",
    "version": 3
   },
   "file_extension": ".py",
   "mimetype": "text/x-python",
   "name": "python",
   "nbconvert_exporter": "python",
   "pygments_lexer": "ipython3",
   "version": "3.11.6"
  }
 },
 "nbformat": 4,
 "nbformat_minor": 5
}
